{
  "cells": [
    {
      "cell_type": "markdown",
      "source": [
        "# **BDA ASSIGNMENT02**"
      ],
      "metadata": {
        "id": "5q2mOuTzIbsu"
      }
    },
    {
      "cell_type": "markdown",
      "source": [
        "# Pre-Processing"
      ],
      "metadata": {
        "id": "8mPYoqizIUGn"
      }
    },
    {
      "cell_type": "markdown",
      "source": [
        "\n",
        "\n",
        "*  **Umaima Hashmi 22i-1894**\n",
        "*  **Nooran Ishtiaq 22i-2010**\n",
        "*  **Manhab Zafar 22i-1957**\n"
      ],
      "metadata": {
        "id": "v2K5ESwY4Fm1"
      }
    },
    {
      "cell_type": "code",
      "execution_count": null,
      "metadata": {
        "colab": {
          "base_uri": "https://localhost:8080/"
        },
        "id": "CDVoaOl0Fjmk",
        "outputId": "ba234c16-cfff-40a7-ad57-dfce523e9498"
      },
      "outputs": [
        {
          "output_type": "stream",
          "name": "stdout",
          "text": [
            "Drive already mounted at /content/drive; to attempt to forcibly remount, call drive.mount(\"/content/drive\", force_remount=True).\n"
          ]
        }
      ],
      "source": [
        "from google.colab import drive\n",
        "import pandas as pd\n",
        "\n",
        "drive.mount('/content/drive')\n",
        "file_path = '/content/drive/My Drive/enwiki-20170820.csv'"
      ]
    },
    {
      "cell_type": "code",
      "source": [
        "# dividing dataset into small chunks of size 500\n",
        "sizeof_chunk= 500\n",
        "newprocessed_chunks = []\n",
        "chunks = pd.read_csv(file_path, chunksize=sizeof_chunk)\n",
        "\n",
        "for i, chunk in enumerate(chunks ,start=1):\n",
        "\n",
        "    chunk['SECTION_TEXT'] = chunk['SECTION_TEXT'].astype(str) # converted data type of string from float to string\n",
        "    chunk['SECTION_TITLE'] = chunk['SECTION_TITLE'].astype(str) #converted datatype of title to string\n",
        "    chunk_grouping = chunk.groupby(['ARTICLE_ID', 'TITLE']).agg({'SECTION_TITLE': ','.join, 'SECTION_TEXT': ' '.join}).reset_index()\n",
        "    #grouping with respect to articleID and TITLE to avoid redundancy\n",
        "    newprocessed_chunks.append(chunk_grouping)"
      ],
      "metadata": {
        "id": "KAEkmblkV4vO"
      },
      "execution_count": null,
      "outputs": []
    },
    {
      "cell_type": "code",
      "source": [
        "data = pd.concat(newprocessed_chunks, ignore_index=True)\n"
      ],
      "metadata": {
        "id": "N0IC3U2jWnKX"
      },
      "execution_count": null,
      "outputs": []
    },
    {
      "cell_type": "code",
      "source": [
        "data"
      ],
      "metadata": {
        "colab": {
          "base_uri": "https://localhost:8080/",
          "height": 423
        },
        "id": "q8krDms0YEom",
        "outputId": "713e7491-0819-4233-c435-67230710810b"
      },
      "execution_count": null,
      "outputs": [
        {
          "output_type": "execute_result",
          "data": {
            "text/plain": [
              "        ARTICLE_ID                             TITLE  \\\n",
              "0                0                         Anarchism   \n",
              "1                1                            Autism   \n",
              "2                2                            Albedo   \n",
              "3                3                                 A   \n",
              "4                4                           Alabama   \n",
              "...            ...                               ...   \n",
              "825271      816926               Anglian Combination   \n",
              "825272      816927           National Theatre (Oslo)   \n",
              "825273      816928                   Midnight Runner   \n",
              "825274      816929  Now That's What I Call Music! 19   \n",
              "825275      816930                   Vergulde Draeck   \n",
              "\n",
              "                                            SECTION_TITLE  \\\n",
              "0       Introduction,Etymology and terminology,History...   \n",
              "1       Introduction,Characteristics,Causes,Mechanism,...   \n",
              "2       Introduction,Terrestrial albedo,Astronomical a...   \n",
              "3       Introduction,History,Use in writing systems,Ot...   \n",
              "4       Introduction,Etymology,History,Geography,Demog...   \n",
              "...                                                   ...   \n",
              "825271  Introduction,History,Sponsorship,Format and re...   \n",
              "825272  Introduction,History,Directors of the Theatre,...   \n",
              "825273                     Introduction,Reviews,Footnotes   \n",
              "825274                                       Introduction   \n",
              "825275  Introduction,The wrecking of the Vergulde Drae...   \n",
              "\n",
              "                                             SECTION_TEXT  \n",
              "0       \\n\\n\\n\\n\\n\\n'''Anarchism''' is a political phi...  \n",
              "1       \\n\\n\\n \\n\\n\\n\\n\\n'''Autism''' is a neurodevelo...  \n",
              "2       \\n\\nPercentage of diffusely reflected sunlight...  \n",
              "3       \\n\\n\\n\\n\\n\\n\\nWriting cursive forms of A\\n'''A...  \n",
              "4       \\n\\n\\n\\n\\n\\n\\n'''Alabama''' () is a state in t...  \n",
              "...                                                   ...  \n",
              "825271  \\n\\n'''The Anglian Combination Football League...  \n",
              "825272  \\n\\nThe '''National Theatre''' in Oslo (''''''...  \n",
              "825273  \\n\\n\\n'''''Midnight Runner''''' is a novel by ...  \n",
              "825274  '''''Now That's What I Call Music! 19''''' may...  \n",
              "825275  The '''''Vergulde Draeck''''' ()  or '''''Gilt...  \n",
              "\n",
              "[825276 rows x 4 columns]"
            ],
            "text/html": [
              "\n",
              "  <div id=\"df-70f838fd-8967-4554-9398-381791dfe605\" class=\"colab-df-container\">\n",
              "    <div>\n",
              "<style scoped>\n",
              "    .dataframe tbody tr th:only-of-type {\n",
              "        vertical-align: middle;\n",
              "    }\n",
              "\n",
              "    .dataframe tbody tr th {\n",
              "        vertical-align: top;\n",
              "    }\n",
              "\n",
              "    .dataframe thead th {\n",
              "        text-align: right;\n",
              "    }\n",
              "</style>\n",
              "<table border=\"1\" class=\"dataframe\">\n",
              "  <thead>\n",
              "    <tr style=\"text-align: right;\">\n",
              "      <th></th>\n",
              "      <th>ARTICLE_ID</th>\n",
              "      <th>TITLE</th>\n",
              "      <th>SECTION_TITLE</th>\n",
              "      <th>SECTION_TEXT</th>\n",
              "    </tr>\n",
              "  </thead>\n",
              "  <tbody>\n",
              "    <tr>\n",
              "      <th>0</th>\n",
              "      <td>0</td>\n",
              "      <td>Anarchism</td>\n",
              "      <td>Introduction,Etymology and terminology,History...</td>\n",
              "      <td>\\n\\n\\n\\n\\n\\n'''Anarchism''' is a political phi...</td>\n",
              "    </tr>\n",
              "    <tr>\n",
              "      <th>1</th>\n",
              "      <td>1</td>\n",
              "      <td>Autism</td>\n",
              "      <td>Introduction,Characteristics,Causes,Mechanism,...</td>\n",
              "      <td>\\n\\n\\n \\n\\n\\n\\n\\n'''Autism''' is a neurodevelo...</td>\n",
              "    </tr>\n",
              "    <tr>\n",
              "      <th>2</th>\n",
              "      <td>2</td>\n",
              "      <td>Albedo</td>\n",
              "      <td>Introduction,Terrestrial albedo,Astronomical a...</td>\n",
              "      <td>\\n\\nPercentage of diffusely reflected sunlight...</td>\n",
              "    </tr>\n",
              "    <tr>\n",
              "      <th>3</th>\n",
              "      <td>3</td>\n",
              "      <td>A</td>\n",
              "      <td>Introduction,History,Use in writing systems,Ot...</td>\n",
              "      <td>\\n\\n\\n\\n\\n\\n\\nWriting cursive forms of A\\n'''A...</td>\n",
              "    </tr>\n",
              "    <tr>\n",
              "      <th>4</th>\n",
              "      <td>4</td>\n",
              "      <td>Alabama</td>\n",
              "      <td>Introduction,Etymology,History,Geography,Demog...</td>\n",
              "      <td>\\n\\n\\n\\n\\n\\n\\n'''Alabama''' () is a state in t...</td>\n",
              "    </tr>\n",
              "    <tr>\n",
              "      <th>...</th>\n",
              "      <td>...</td>\n",
              "      <td>...</td>\n",
              "      <td>...</td>\n",
              "      <td>...</td>\n",
              "    </tr>\n",
              "    <tr>\n",
              "      <th>825271</th>\n",
              "      <td>816926</td>\n",
              "      <td>Anglian Combination</td>\n",
              "      <td>Introduction,History,Sponsorship,Format and re...</td>\n",
              "      <td>\\n\\n'''The Anglian Combination Football League...</td>\n",
              "    </tr>\n",
              "    <tr>\n",
              "      <th>825272</th>\n",
              "      <td>816927</td>\n",
              "      <td>National Theatre (Oslo)</td>\n",
              "      <td>Introduction,History,Directors of the Theatre,...</td>\n",
              "      <td>\\n\\nThe '''National Theatre''' in Oslo (''''''...</td>\n",
              "    </tr>\n",
              "    <tr>\n",
              "      <th>825273</th>\n",
              "      <td>816928</td>\n",
              "      <td>Midnight Runner</td>\n",
              "      <td>Introduction,Reviews,Footnotes</td>\n",
              "      <td>\\n\\n\\n'''''Midnight Runner''''' is a novel by ...</td>\n",
              "    </tr>\n",
              "    <tr>\n",
              "      <th>825274</th>\n",
              "      <td>816929</td>\n",
              "      <td>Now That's What I Call Music! 19</td>\n",
              "      <td>Introduction</td>\n",
              "      <td>'''''Now That's What I Call Music! 19''''' may...</td>\n",
              "    </tr>\n",
              "    <tr>\n",
              "      <th>825275</th>\n",
              "      <td>816930</td>\n",
              "      <td>Vergulde Draeck</td>\n",
              "      <td>Introduction,The wrecking of the Vergulde Drae...</td>\n",
              "      <td>The '''''Vergulde Draeck''''' ()  or '''''Gilt...</td>\n",
              "    </tr>\n",
              "  </tbody>\n",
              "</table>\n",
              "<p>825276 rows × 4 columns</p>\n",
              "</div>\n",
              "    <div class=\"colab-df-buttons\">\n",
              "\n",
              "  <div class=\"colab-df-container\">\n",
              "    <button class=\"colab-df-convert\" onclick=\"convertToInteractive('df-70f838fd-8967-4554-9398-381791dfe605')\"\n",
              "            title=\"Convert this dataframe to an interactive table.\"\n",
              "            style=\"display:none;\">\n",
              "\n",
              "  <svg xmlns=\"http://www.w3.org/2000/svg\" height=\"24px\" viewBox=\"0 -960 960 960\">\n",
              "    <path d=\"M120-120v-720h720v720H120Zm60-500h600v-160H180v160Zm220 220h160v-160H400v160Zm0 220h160v-160H400v160ZM180-400h160v-160H180v160Zm440 0h160v-160H620v160ZM180-180h160v-160H180v160Zm440 0h160v-160H620v160Z\"/>\n",
              "  </svg>\n",
              "    </button>\n",
              "\n",
              "  <style>\n",
              "    .colab-df-container {\n",
              "      display:flex;\n",
              "      gap: 12px;\n",
              "    }\n",
              "\n",
              "    .colab-df-convert {\n",
              "      background-color: #E8F0FE;\n",
              "      border: none;\n",
              "      border-radius: 50%;\n",
              "      cursor: pointer;\n",
              "      display: none;\n",
              "      fill: #1967D2;\n",
              "      height: 32px;\n",
              "      padding: 0 0 0 0;\n",
              "      width: 32px;\n",
              "    }\n",
              "\n",
              "    .colab-df-convert:hover {\n",
              "      background-color: #E2EBFA;\n",
              "      box-shadow: 0px 1px 2px rgba(60, 64, 67, 0.3), 0px 1px 3px 1px rgba(60, 64, 67, 0.15);\n",
              "      fill: #174EA6;\n",
              "    }\n",
              "\n",
              "    .colab-df-buttons div {\n",
              "      margin-bottom: 4px;\n",
              "    }\n",
              "\n",
              "    [theme=dark] .colab-df-convert {\n",
              "      background-color: #3B4455;\n",
              "      fill: #D2E3FC;\n",
              "    }\n",
              "\n",
              "    [theme=dark] .colab-df-convert:hover {\n",
              "      background-color: #434B5C;\n",
              "      box-shadow: 0px 1px 3px 1px rgba(0, 0, 0, 0.15);\n",
              "      filter: drop-shadow(0px 1px 2px rgba(0, 0, 0, 0.3));\n",
              "      fill: #FFFFFF;\n",
              "    }\n",
              "  </style>\n",
              "\n",
              "    <script>\n",
              "      const buttonEl =\n",
              "        document.querySelector('#df-70f838fd-8967-4554-9398-381791dfe605 button.colab-df-convert');\n",
              "      buttonEl.style.display =\n",
              "        google.colab.kernel.accessAllowed ? 'block' : 'none';\n",
              "\n",
              "      async function convertToInteractive(key) {\n",
              "        const element = document.querySelector('#df-70f838fd-8967-4554-9398-381791dfe605');\n",
              "        const dataTable =\n",
              "          await google.colab.kernel.invokeFunction('convertToInteractive',\n",
              "                                                    [key], {});\n",
              "        if (!dataTable) return;\n",
              "\n",
              "        const docLinkHtml = 'Like what you see? Visit the ' +\n",
              "          '<a target=\"_blank\" href=https://colab.research.google.com/notebooks/data_table.ipynb>data table notebook</a>'\n",
              "          + ' to learn more about interactive tables.';\n",
              "        element.innerHTML = '';\n",
              "        dataTable['output_type'] = 'display_data';\n",
              "        await google.colab.output.renderOutput(dataTable, element);\n",
              "        const docLink = document.createElement('div');\n",
              "        docLink.innerHTML = docLinkHtml;\n",
              "        element.appendChild(docLink);\n",
              "      }\n",
              "    </script>\n",
              "  </div>\n",
              "\n",
              "\n",
              "<div id=\"df-31c9411c-44d3-447a-9eb6-77cc7dccd3b6\">\n",
              "  <button class=\"colab-df-quickchart\" onclick=\"quickchart('df-31c9411c-44d3-447a-9eb6-77cc7dccd3b6')\"\n",
              "            title=\"Suggest charts\"\n",
              "            style=\"display:none;\">\n",
              "\n",
              "<svg xmlns=\"http://www.w3.org/2000/svg\" height=\"24px\"viewBox=\"0 0 24 24\"\n",
              "     width=\"24px\">\n",
              "    <g>\n",
              "        <path d=\"M19 3H5c-1.1 0-2 .9-2 2v14c0 1.1.9 2 2 2h14c1.1 0 2-.9 2-2V5c0-1.1-.9-2-2-2zM9 17H7v-7h2v7zm4 0h-2V7h2v10zm4 0h-2v-4h2v4z\"/>\n",
              "    </g>\n",
              "</svg>\n",
              "  </button>\n",
              "\n",
              "<style>\n",
              "  .colab-df-quickchart {\n",
              "      --bg-color: #E8F0FE;\n",
              "      --fill-color: #1967D2;\n",
              "      --hover-bg-color: #E2EBFA;\n",
              "      --hover-fill-color: #174EA6;\n",
              "      --disabled-fill-color: #AAA;\n",
              "      --disabled-bg-color: #DDD;\n",
              "  }\n",
              "\n",
              "  [theme=dark] .colab-df-quickchart {\n",
              "      --bg-color: #3B4455;\n",
              "      --fill-color: #D2E3FC;\n",
              "      --hover-bg-color: #434B5C;\n",
              "      --hover-fill-color: #FFFFFF;\n",
              "      --disabled-bg-color: #3B4455;\n",
              "      --disabled-fill-color: #666;\n",
              "  }\n",
              "\n",
              "  .colab-df-quickchart {\n",
              "    background-color: var(--bg-color);\n",
              "    border: none;\n",
              "    border-radius: 50%;\n",
              "    cursor: pointer;\n",
              "    display: none;\n",
              "    fill: var(--fill-color);\n",
              "    height: 32px;\n",
              "    padding: 0;\n",
              "    width: 32px;\n",
              "  }\n",
              "\n",
              "  .colab-df-quickchart:hover {\n",
              "    background-color: var(--hover-bg-color);\n",
              "    box-shadow: 0 1px 2px rgba(60, 64, 67, 0.3), 0 1px 3px 1px rgba(60, 64, 67, 0.15);\n",
              "    fill: var(--button-hover-fill-color);\n",
              "  }\n",
              "\n",
              "  .colab-df-quickchart-complete:disabled,\n",
              "  .colab-df-quickchart-complete:disabled:hover {\n",
              "    background-color: var(--disabled-bg-color);\n",
              "    fill: var(--disabled-fill-color);\n",
              "    box-shadow: none;\n",
              "  }\n",
              "\n",
              "  .colab-df-spinner {\n",
              "    border: 2px solid var(--fill-color);\n",
              "    border-color: transparent;\n",
              "    border-bottom-color: var(--fill-color);\n",
              "    animation:\n",
              "      spin 1s steps(1) infinite;\n",
              "  }\n",
              "\n",
              "  @keyframes spin {\n",
              "    0% {\n",
              "      border-color: transparent;\n",
              "      border-bottom-color: var(--fill-color);\n",
              "      border-left-color: var(--fill-color);\n",
              "    }\n",
              "    20% {\n",
              "      border-color: transparent;\n",
              "      border-left-color: var(--fill-color);\n",
              "      border-top-color: var(--fill-color);\n",
              "    }\n",
              "    30% {\n",
              "      border-color: transparent;\n",
              "      border-left-color: var(--fill-color);\n",
              "      border-top-color: var(--fill-color);\n",
              "      border-right-color: var(--fill-color);\n",
              "    }\n",
              "    40% {\n",
              "      border-color: transparent;\n",
              "      border-right-color: var(--fill-color);\n",
              "      border-top-color: var(--fill-color);\n",
              "    }\n",
              "    60% {\n",
              "      border-color: transparent;\n",
              "      border-right-color: var(--fill-color);\n",
              "    }\n",
              "    80% {\n",
              "      border-color: transparent;\n",
              "      border-right-color: var(--fill-color);\n",
              "      border-bottom-color: var(--fill-color);\n",
              "    }\n",
              "    90% {\n",
              "      border-color: transparent;\n",
              "      border-bottom-color: var(--fill-color);\n",
              "    }\n",
              "  }\n",
              "</style>\n",
              "\n",
              "  <script>\n",
              "    async function quickchart(key) {\n",
              "      const quickchartButtonEl =\n",
              "        document.querySelector('#' + key + ' button');\n",
              "      quickchartButtonEl.disabled = true;  // To prevent multiple clicks.\n",
              "      quickchartButtonEl.classList.add('colab-df-spinner');\n",
              "      try {\n",
              "        const charts = await google.colab.kernel.invokeFunction(\n",
              "            'suggestCharts', [key], {});\n",
              "      } catch (error) {\n",
              "        console.error('Error during call to suggestCharts:', error);\n",
              "      }\n",
              "      quickchartButtonEl.classList.remove('colab-df-spinner');\n",
              "      quickchartButtonEl.classList.add('colab-df-quickchart-complete');\n",
              "    }\n",
              "    (() => {\n",
              "      let quickchartButtonEl =\n",
              "        document.querySelector('#df-31c9411c-44d3-447a-9eb6-77cc7dccd3b6 button');\n",
              "      quickchartButtonEl.style.display =\n",
              "        google.colab.kernel.accessAllowed ? 'block' : 'none';\n",
              "    })();\n",
              "  </script>\n",
              "</div>\n",
              "    </div>\n",
              "  </div>\n"
            ],
            "application/vnd.google.colaboratory.intrinsic+json": {
              "type": "dataframe",
              "variable_name": "data"
            }
          },
          "metadata": {},
          "execution_count": 4
        }
      ]
    },
    {
      "cell_type": "code",
      "source": [
        "num_rows, num_cols = data.shape\n",
        "print(\"Total number of rows in the dataset:\", num_rows)"
      ],
      "metadata": {
        "colab": {
          "base_uri": "https://localhost:8080/"
        },
        "id": "poTNvFpu-6HI",
        "outputId": "d6c1b079-4e3a-433d-aa25-abb20b097381"
      },
      "execution_count": null,
      "outputs": [
        {
          "output_type": "stream",
          "name": "stdout",
          "text": [
            "Total number of rows in the dataset: 825276\n"
          ]
        }
      ]
    },
    {
      "cell_type": "code",
      "source": [
        "#Downloading all the necessary libraries for the data pre processing\n",
        "import nltk\n",
        "import string\n",
        "from nltk.stem import WordNetLemmatizer\n",
        "from nltk.corpus import stopwords\n",
        "nltk.download('punkt')\n",
        "nltk.download('stopwords')\n",
        "nltk.download('wordnet')\n",
        "\n",
        "STOPWORDS = set(stopwords.words('english'))\n",
        "PUNCTUATION =string.punctuation\n",
        "lemmatized_tokens = []\n",
        "lemmatization = WordNetLemmatizer()"
      ],
      "metadata": {
        "colab": {
          "base_uri": "https://localhost:8080/"
        },
        "id": "G7Sn4jUJ8uTE",
        "outputId": "08aebf42-ed2e-41ad-e836-288fb4955030"
      },
      "execution_count": null,
      "outputs": [
        {
          "output_type": "stream",
          "name": "stderr",
          "text": [
            "[nltk_data] Downloading package punkt to /root/nltk_data...\n",
            "[nltk_data]   Package punkt is already up-to-date!\n",
            "[nltk_data] Downloading package stopwords to /root/nltk_data...\n",
            "[nltk_data]   Package stopwords is already up-to-date!\n",
            "[nltk_data] Downloading package wordnet to /root/nltk_data...\n",
            "[nltk_data]   Package wordnet is already up-to-date!\n"
          ]
        }
      ]
    },
    {
      "cell_type": "code",
      "source": [
        "from nltk.corpus import stopwords, wordnet\n",
        "def is_english_word(word):\n",
        "    # Check if the word is present in the English vocabulary\n",
        "    return wordnet.synsets(word)\n",
        "\n",
        "def text_preprocessing(text):\n",
        "    text = text.lower()\n",
        "    # Word tokenization\n",
        "    word_tokens = nltk.word_tokenize(text)\n",
        "    updated_tokens = []\n",
        "    # Removing digits, special characters, punctuation, and stopwords\n",
        "    # Lemmatizing word_tokens and checking if each word is an English word\n",
        "    for token in word_tokens:\n",
        "        if (\n",
        "            token not in STOPWORDS\n",
        "            and token.isalpha()\n",
        "            and token not in PUNCTUATION\n",
        "            and is_english_word(token)      #we have checked here whether o rnot every word here is a valid word present in english vocabulary\n",
        "        ):\n",
        "            updated_tokens.append(lemmatization.lemmatize(token))\n",
        "    return \" \".join(updated_tokens)"
      ],
      "metadata": {
        "id": "Dq78vJP-Cmzk"
      },
      "execution_count": null,
      "outputs": []
    },
    {
      "cell_type": "code",
      "source": [
        "data['SECTION_TEXT'] = data['SECTION_TEXT'].head(500).apply(text_preprocessing)"
      ],
      "metadata": {
        "id": "Vm201phU9WSQ"
      },
      "execution_count": null,
      "outputs": []
    },
    {
      "cell_type": "code",
      "source": [
        "# Save the DataFrame to a CSV file\n",
        "df_subset = data.head(500)\n",
        "\n",
        "# Convert the subset DataFrame to a CSV file\n",
        "csv_file_path = 'output.csv'\n",
        "df_subset.to_csv(csv_file_path, index=False)\n",
        "\n",
        "print(\"Subset CSV file created successfully.\")"
      ],
      "metadata": {
        "id": "y7-2TsBdYz_w",
        "colab": {
          "base_uri": "https://localhost:8080/"
        },
        "outputId": "d8109782-305a-4341-d66c-c1b7a126d467"
      },
      "execution_count": null,
      "outputs": [
        {
          "output_type": "stream",
          "name": "stdout",
          "text": [
            "Subset CSV file created successfully.\n"
          ]
        }
      ]
    },
    {
      "cell_type": "code",
      "source": [
        "\"\"\"\n",
        "def text_preprocessing(text):\n",
        "   #Converting text to lowercase\n",
        "   #also changing datatype of text to str\n",
        "    if not isinstance(text, str):\n",
        "        text = str(text)\n",
        "    text = text.lower()\n",
        "    #word tokenization\n",
        "    word_tokens = nltk.word_tokenize(text)\n",
        "    updated_tokens = []\n",
        "    # removing digits , special characters,punctuation and stopwords\n",
        "    # lemmitizating word_tokens\n",
        "    for token in word_tokens :\n",
        "      if token not in STOPWORDS and token.isalpha() and token not in PUNCTUATION:\n",
        "         updated_tokens.append(lemmatization.lemmatize(token))\n",
        "    return \" \".join(updated_tokens)\n",
        "\"\"\""
      ],
      "metadata": {
        "id": "tCy3f2l48uk3"
      },
      "execution_count": null,
      "outputs": []
    }
  ],
  "metadata": {
    "colab": {
      "provenance": []
    },
    "kernelspec": {
      "display_name": "Python 3",
      "name": "python3"
    },
    "language_info": {
      "name": "python"
    }
  },
  "nbformat": 4,
  "nbformat_minor": 0
}