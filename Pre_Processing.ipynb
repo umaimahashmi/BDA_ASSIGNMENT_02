{
  "cells": [
    {
      "cell_type": "code",
      "execution_count": 2,
      "metadata": {
        "colab": {
          "base_uri": "https://localhost:8080/"
        },
        "id": "CDVoaOl0Fjmk",
        "outputId": "0fd96cb1-e52a-4ff6-e12c-a60bf972f962"
      },
      "outputs": [
        {
          "output_type": "stream",
          "name": "stdout",
          "text": [
            "Mounted at /content/drive\n"
          ]
        }
      ],
      "source": [
        "from google.colab import drive\n",
        "import pandas as pd\n",
        "\n",
        "drive.mount('/content/drive')\n",
        "file_path = '/content/drive/My Drive/enwiki-20170820.csv'\n"
      ]
    },
    {
      "cell_type": "code",
      "source": [
        "df = pd.read_csv(file_path)"
      ],
      "metadata": {
        "id": "fzkGY1nRKo9N"
      },
      "execution_count": 3,
      "outputs": []
    },
    {
      "cell_type": "code",
      "source": [
        "import nltk\n",
        "import string\n",
        "from nltk.stem import WordNetLemmatizer\n",
        "from nltk.corpus import stopwords\n",
        "nltk.download('punkt')\n",
        "nltk.download('stopwords')\n",
        "nltk.download('wordnet')\n",
        "\n",
        "STOPWORDS = set(stopwords.words('english'))\n",
        "PUNCTUATION =string.punctuation\n",
        "lemmatized_tokens = []\n",
        "lemmatization = WordNetLemmatizer()"
      ],
      "metadata": {
        "id": "zPN3MiYu3x_o"
      },
      "execution_count": null,
      "outputs": []
    },
    {
      "cell_type": "code",
      "source": [
        "def text_preprocessing(text):\n",
        "   #Converting text to lowercase\n",
        "   #also changing datatype of text to str\n",
        "    if not isinstance(text, str):\n",
        "        text = str(text)\n",
        "    text = text.lower()\n",
        "    #word tokenization\n",
        "    word_tokens = nltk.word_tokenize(text)\n",
        "    updated_tokens = []\n",
        "    # removing digits , special characters,punctuation and stopwords\n",
        "    # lemmitizating word_tokens\n",
        "\n",
        "    for token in word_tokens :\n",
        "      if token not in STOPWORDS and token.isalpha() and token not in PUNCTUATION:\n",
        "         updated_tokens.append(lemmatization.lemmatize(token))\n",
        "    return \" \".join(updated_tokens)"
      ],
      "metadata": {
        "id": "IEi-cftq3uM2"
      },
      "execution_count": 5,
      "outputs": []
    },
    {
      "cell_type": "code",
      "execution_count": null,
      "metadata": {
        "id": "Eo_SP6ZIGujo"
      },
      "outputs": [],
      "source": [
        "\n",
        "# Specify the chunk size (number of rows to read at a time)\n",
        "chunk_size = 1000\n",
        "\n",
        "# Create a pandas DataFrameReader object\n",
        "csv_reader = pd.read_csv(file_path, chunksize=chunk_size)\n",
        "\n",
        "# Iterate over each chunk\n",
        "for chunk in csv_reader:\n",
        "    # Process each chunk as desired\n",
        "    chunk_df = pd.DataFrame(chunk)\n",
        "    chunk_df['SECTION_TEXT']=chunk_df['SECTION_TEXT'].apply(text_preprocessing)\n",
        "\n",
        "\n"
      ]
    },
    {
      "cell_type": "code",
      "source": [
        "for chunk in csv_reader:\n",
        "  print(chunk)"
      ],
      "metadata": {
        "id": "U4UaeCNjBgjH"
      },
      "execution_count": null,
      "outputs": []
    }
  ],
  "metadata": {
    "colab": {
      "provenance": []
    },
    "kernelspec": {
      "display_name": "Python 3",
      "name": "python3"
    },
    "language_info": {
      "name": "python"
    }
  },
  "nbformat": 4,
  "nbformat_minor": 0
}