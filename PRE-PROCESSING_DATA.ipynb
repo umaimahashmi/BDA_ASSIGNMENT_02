{
  "cells": [
    {
      "cell_type": "markdown",
      "source": [
        "# **BDA ASSIGNMENT02**"
      ],
      "metadata": {
        "id": "5q2mOuTzIbsu"
      }
    },
    {
      "cell_type": "markdown",
      "source": [
        "**GROUP MEMBERS**\n",
        "\n",
        "*   Umaima Hashmi      22i1894\n",
        "*   Nooran Ishtiaq     22i-2010\n",
        "*   Manhab Zafar       22i-1957\n",
        "\n",
        "\n",
        "\n"
      ],
      "metadata": {
        "id": "WT1Pyi6NIiGI"
      }
    },
    {
      "cell_type": "markdown",
      "source": [
        "# Pre-Processing"
      ],
      "metadata": {
        "id": "8mPYoqizIUGn"
      }
    },
    {
      "cell_type": "code",
      "execution_count": 1,
      "metadata": {
        "colab": {
          "base_uri": "https://localhost:8080/"
        },
        "id": "CDVoaOl0Fjmk",
        "outputId": "cef248f3-9b0e-4290-cfaf-f84e6d725de5"
      },
      "outputs": [
        {
          "output_type": "stream",
          "name": "stdout",
          "text": [
            "Mounted at /content/drive\n"
          ]
        }
      ],
      "source": [
        "from google.colab import drive\n",
        "import pandas as pd\n",
        "\n",
        "drive.mount('/content/drive')\n",
        "file_path = '/content/drive/My Drive/enwiki-20170820.csv'  #(umaima)--> i used this file path to access file directly from shared folder"
      ]
    },
    {
      "cell_type": "code",
      "execution_count": 2,
      "metadata": {
        "id": "Eo_SP6ZIGujo"
      },
      "outputs": [],
      "source": [
        "df = pd.read_csv(file_path)"
      ]
    },
    {
      "cell_type": "code",
      "source": [
        "df.head(15)"
      ],
      "metadata": {
        "colab": {
          "base_uri": "https://localhost:8080/",
          "height": 519
        },
        "id": "w1qTfQI7WnHK",
        "outputId": "dc7d5d3a-c1e3-42b9-c575-4f33bb4f1a11"
      },
      "execution_count": 3,
      "outputs": [
        {
          "output_type": "execute_result",
          "data": {
            "text/plain": [
              "    ARTICLE_ID      TITLE                 SECTION_TITLE  \\\n",
              "0            0  Anarchism                  Introduction   \n",
              "1            0  Anarchism     Etymology and terminology   \n",
              "2            0  Anarchism                       History   \n",
              "3            0  Anarchism  Anarchist schools of thought   \n",
              "4            0  Anarchism   Internal issues and debates   \n",
              "5            0  Anarchism            Topics of interest   \n",
              "6            0  Anarchism                    Criticisms   \n",
              "7            0  Anarchism                      See also   \n",
              "8            0  Anarchism                    References   \n",
              "9            0  Anarchism               Further reading   \n",
              "10           0  Anarchism                External links   \n",
              "11           1     Autism                  Introduction   \n",
              "12           1     Autism               Characteristics   \n",
              "13           1     Autism                        Causes   \n",
              "14           1     Autism                     Mechanism   \n",
              "\n",
              "                                         SECTION_TEXT  \n",
              "0   \\n\\n\\n\\n\\n\\n'''Anarchism''' is a political phi...  \n",
              "1   \\n\\nThe term ''anarchism'' is a compound word ...  \n",
              "2   \\n\\n===Origins===\\nWoodcut from a Diggers docu...  \n",
              "3   \\nPortrait of philosopher Pierre-Joseph Proudh...  \n",
              "4   \\nconsistent with anarchist values is a contro...  \n",
              "5   Intersecting and overlapping between various s...  \n",
              "6   \\nCriticisms of anarchism include moral critic...  \n",
              "7                            * Anarchism by country\\n  \n",
              "8                                                  \\n  \n",
              "9   * Barclay Harold ''People Without Government: ...  \n",
              "10  \\n* \\n* \\n\\n\\n\\n\\n\\n\\n\\n\\n\\n\\n\\n\\n\\n\\n\\n\\n\\n\\n...  \n",
              "11  \\n\\n\\n \\n\\n\\n\\n\\n'''Autism''' is a neurodevelo...  \n",
              "12  Autism spectrum disorder video\\nAutism is a hi...  \n",
              "13  \\n\\nIt has long been presumed that there is a ...  \n",
              "14  Autism's symptoms result from maturation-relat...  "
            ],
            "text/html": [
              "\n",
              "  <div id=\"df-cc96306f-00d3-4f4e-943b-dc08bca15900\" class=\"colab-df-container\">\n",
              "    <div>\n",
              "<style scoped>\n",
              "    .dataframe tbody tr th:only-of-type {\n",
              "        vertical-align: middle;\n",
              "    }\n",
              "\n",
              "    .dataframe tbody tr th {\n",
              "        vertical-align: top;\n",
              "    }\n",
              "\n",
              "    .dataframe thead th {\n",
              "        text-align: right;\n",
              "    }\n",
              "</style>\n",
              "<table border=\"1\" class=\"dataframe\">\n",
              "  <thead>\n",
              "    <tr style=\"text-align: right;\">\n",
              "      <th></th>\n",
              "      <th>ARTICLE_ID</th>\n",
              "      <th>TITLE</th>\n",
              "      <th>SECTION_TITLE</th>\n",
              "      <th>SECTION_TEXT</th>\n",
              "    </tr>\n",
              "  </thead>\n",
              "  <tbody>\n",
              "    <tr>\n",
              "      <th>0</th>\n",
              "      <td>0</td>\n",
              "      <td>Anarchism</td>\n",
              "      <td>Introduction</td>\n",
              "      <td>\\n\\n\\n\\n\\n\\n'''Anarchism''' is a political phi...</td>\n",
              "    </tr>\n",
              "    <tr>\n",
              "      <th>1</th>\n",
              "      <td>0</td>\n",
              "      <td>Anarchism</td>\n",
              "      <td>Etymology and terminology</td>\n",
              "      <td>\\n\\nThe term ''anarchism'' is a compound word ...</td>\n",
              "    </tr>\n",
              "    <tr>\n",
              "      <th>2</th>\n",
              "      <td>0</td>\n",
              "      <td>Anarchism</td>\n",
              "      <td>History</td>\n",
              "      <td>\\n\\n===Origins===\\nWoodcut from a Diggers docu...</td>\n",
              "    </tr>\n",
              "    <tr>\n",
              "      <th>3</th>\n",
              "      <td>0</td>\n",
              "      <td>Anarchism</td>\n",
              "      <td>Anarchist schools of thought</td>\n",
              "      <td>\\nPortrait of philosopher Pierre-Joseph Proudh...</td>\n",
              "    </tr>\n",
              "    <tr>\n",
              "      <th>4</th>\n",
              "      <td>0</td>\n",
              "      <td>Anarchism</td>\n",
              "      <td>Internal issues and debates</td>\n",
              "      <td>\\nconsistent with anarchist values is a contro...</td>\n",
              "    </tr>\n",
              "    <tr>\n",
              "      <th>5</th>\n",
              "      <td>0</td>\n",
              "      <td>Anarchism</td>\n",
              "      <td>Topics of interest</td>\n",
              "      <td>Intersecting and overlapping between various s...</td>\n",
              "    </tr>\n",
              "    <tr>\n",
              "      <th>6</th>\n",
              "      <td>0</td>\n",
              "      <td>Anarchism</td>\n",
              "      <td>Criticisms</td>\n",
              "      <td>\\nCriticisms of anarchism include moral critic...</td>\n",
              "    </tr>\n",
              "    <tr>\n",
              "      <th>7</th>\n",
              "      <td>0</td>\n",
              "      <td>Anarchism</td>\n",
              "      <td>See also</td>\n",
              "      <td>* Anarchism by country\\n</td>\n",
              "    </tr>\n",
              "    <tr>\n",
              "      <th>8</th>\n",
              "      <td>0</td>\n",
              "      <td>Anarchism</td>\n",
              "      <td>References</td>\n",
              "      <td>\\n</td>\n",
              "    </tr>\n",
              "    <tr>\n",
              "      <th>9</th>\n",
              "      <td>0</td>\n",
              "      <td>Anarchism</td>\n",
              "      <td>Further reading</td>\n",
              "      <td>* Barclay Harold ''People Without Government: ...</td>\n",
              "    </tr>\n",
              "    <tr>\n",
              "      <th>10</th>\n",
              "      <td>0</td>\n",
              "      <td>Anarchism</td>\n",
              "      <td>External links</td>\n",
              "      <td>\\n* \\n* \\n\\n\\n\\n\\n\\n\\n\\n\\n\\n\\n\\n\\n\\n\\n\\n\\n\\n\\n...</td>\n",
              "    </tr>\n",
              "    <tr>\n",
              "      <th>11</th>\n",
              "      <td>1</td>\n",
              "      <td>Autism</td>\n",
              "      <td>Introduction</td>\n",
              "      <td>\\n\\n\\n \\n\\n\\n\\n\\n'''Autism''' is a neurodevelo...</td>\n",
              "    </tr>\n",
              "    <tr>\n",
              "      <th>12</th>\n",
              "      <td>1</td>\n",
              "      <td>Autism</td>\n",
              "      <td>Characteristics</td>\n",
              "      <td>Autism spectrum disorder video\\nAutism is a hi...</td>\n",
              "    </tr>\n",
              "    <tr>\n",
              "      <th>13</th>\n",
              "      <td>1</td>\n",
              "      <td>Autism</td>\n",
              "      <td>Causes</td>\n",
              "      <td>\\n\\nIt has long been presumed that there is a ...</td>\n",
              "    </tr>\n",
              "    <tr>\n",
              "      <th>14</th>\n",
              "      <td>1</td>\n",
              "      <td>Autism</td>\n",
              "      <td>Mechanism</td>\n",
              "      <td>Autism's symptoms result from maturation-relat...</td>\n",
              "    </tr>\n",
              "  </tbody>\n",
              "</table>\n",
              "</div>\n",
              "    <div class=\"colab-df-buttons\">\n",
              "\n",
              "  <div class=\"colab-df-container\">\n",
              "    <button class=\"colab-df-convert\" onclick=\"convertToInteractive('df-cc96306f-00d3-4f4e-943b-dc08bca15900')\"\n",
              "            title=\"Convert this dataframe to an interactive table.\"\n",
              "            style=\"display:none;\">\n",
              "\n",
              "  <svg xmlns=\"http://www.w3.org/2000/svg\" height=\"24px\" viewBox=\"0 -960 960 960\">\n",
              "    <path d=\"M120-120v-720h720v720H120Zm60-500h600v-160H180v160Zm220 220h160v-160H400v160Zm0 220h160v-160H400v160ZM180-400h160v-160H180v160Zm440 0h160v-160H620v160ZM180-180h160v-160H180v160Zm440 0h160v-160H620v160Z\"/>\n",
              "  </svg>\n",
              "    </button>\n",
              "\n",
              "  <style>\n",
              "    .colab-df-container {\n",
              "      display:flex;\n",
              "      gap: 12px;\n",
              "    }\n",
              "\n",
              "    .colab-df-convert {\n",
              "      background-color: #E8F0FE;\n",
              "      border: none;\n",
              "      border-radius: 50%;\n",
              "      cursor: pointer;\n",
              "      display: none;\n",
              "      fill: #1967D2;\n",
              "      height: 32px;\n",
              "      padding: 0 0 0 0;\n",
              "      width: 32px;\n",
              "    }\n",
              "\n",
              "    .colab-df-convert:hover {\n",
              "      background-color: #E2EBFA;\n",
              "      box-shadow: 0px 1px 2px rgba(60, 64, 67, 0.3), 0px 1px 3px 1px rgba(60, 64, 67, 0.15);\n",
              "      fill: #174EA6;\n",
              "    }\n",
              "\n",
              "    .colab-df-buttons div {\n",
              "      margin-bottom: 4px;\n",
              "    }\n",
              "\n",
              "    [theme=dark] .colab-df-convert {\n",
              "      background-color: #3B4455;\n",
              "      fill: #D2E3FC;\n",
              "    }\n",
              "\n",
              "    [theme=dark] .colab-df-convert:hover {\n",
              "      background-color: #434B5C;\n",
              "      box-shadow: 0px 1px 3px 1px rgba(0, 0, 0, 0.15);\n",
              "      filter: drop-shadow(0px 1px 2px rgba(0, 0, 0, 0.3));\n",
              "      fill: #FFFFFF;\n",
              "    }\n",
              "  </style>\n",
              "\n",
              "    <script>\n",
              "      const buttonEl =\n",
              "        document.querySelector('#df-cc96306f-00d3-4f4e-943b-dc08bca15900 button.colab-df-convert');\n",
              "      buttonEl.style.display =\n",
              "        google.colab.kernel.accessAllowed ? 'block' : 'none';\n",
              "\n",
              "      async function convertToInteractive(key) {\n",
              "        const element = document.querySelector('#df-cc96306f-00d3-4f4e-943b-dc08bca15900');\n",
              "        const dataTable =\n",
              "          await google.colab.kernel.invokeFunction('convertToInteractive',\n",
              "                                                    [key], {});\n",
              "        if (!dataTable) return;\n",
              "\n",
              "        const docLinkHtml = 'Like what you see? Visit the ' +\n",
              "          '<a target=\"_blank\" href=https://colab.research.google.com/notebooks/data_table.ipynb>data table notebook</a>'\n",
              "          + ' to learn more about interactive tables.';\n",
              "        element.innerHTML = '';\n",
              "        dataTable['output_type'] = 'display_data';\n",
              "        await google.colab.output.renderOutput(dataTable, element);\n",
              "        const docLink = document.createElement('div');\n",
              "        docLink.innerHTML = docLinkHtml;\n",
              "        element.appendChild(docLink);\n",
              "      }\n",
              "    </script>\n",
              "  </div>\n",
              "\n",
              "\n",
              "<div id=\"df-e8373218-3e74-4a96-af74-8c28cf517e64\">\n",
              "  <button class=\"colab-df-quickchart\" onclick=\"quickchart('df-e8373218-3e74-4a96-af74-8c28cf517e64')\"\n",
              "            title=\"Suggest charts\"\n",
              "            style=\"display:none;\">\n",
              "\n",
              "<svg xmlns=\"http://www.w3.org/2000/svg\" height=\"24px\"viewBox=\"0 0 24 24\"\n",
              "     width=\"24px\">\n",
              "    <g>\n",
              "        <path d=\"M19 3H5c-1.1 0-2 .9-2 2v14c0 1.1.9 2 2 2h14c1.1 0 2-.9 2-2V5c0-1.1-.9-2-2-2zM9 17H7v-7h2v7zm4 0h-2V7h2v10zm4 0h-2v-4h2v4z\"/>\n",
              "    </g>\n",
              "</svg>\n",
              "  </button>\n",
              "\n",
              "<style>\n",
              "  .colab-df-quickchart {\n",
              "      --bg-color: #E8F0FE;\n",
              "      --fill-color: #1967D2;\n",
              "      --hover-bg-color: #E2EBFA;\n",
              "      --hover-fill-color: #174EA6;\n",
              "      --disabled-fill-color: #AAA;\n",
              "      --disabled-bg-color: #DDD;\n",
              "  }\n",
              "\n",
              "  [theme=dark] .colab-df-quickchart {\n",
              "      --bg-color: #3B4455;\n",
              "      --fill-color: #D2E3FC;\n",
              "      --hover-bg-color: #434B5C;\n",
              "      --hover-fill-color: #FFFFFF;\n",
              "      --disabled-bg-color: #3B4455;\n",
              "      --disabled-fill-color: #666;\n",
              "  }\n",
              "\n",
              "  .colab-df-quickchart {\n",
              "    background-color: var(--bg-color);\n",
              "    border: none;\n",
              "    border-radius: 50%;\n",
              "    cursor: pointer;\n",
              "    display: none;\n",
              "    fill: var(--fill-color);\n",
              "    height: 32px;\n",
              "    padding: 0;\n",
              "    width: 32px;\n",
              "  }\n",
              "\n",
              "  .colab-df-quickchart:hover {\n",
              "    background-color: var(--hover-bg-color);\n",
              "    box-shadow: 0 1px 2px rgba(60, 64, 67, 0.3), 0 1px 3px 1px rgba(60, 64, 67, 0.15);\n",
              "    fill: var(--button-hover-fill-color);\n",
              "  }\n",
              "\n",
              "  .colab-df-quickchart-complete:disabled,\n",
              "  .colab-df-quickchart-complete:disabled:hover {\n",
              "    background-color: var(--disabled-bg-color);\n",
              "    fill: var(--disabled-fill-color);\n",
              "    box-shadow: none;\n",
              "  }\n",
              "\n",
              "  .colab-df-spinner {\n",
              "    border: 2px solid var(--fill-color);\n",
              "    border-color: transparent;\n",
              "    border-bottom-color: var(--fill-color);\n",
              "    animation:\n",
              "      spin 1s steps(1) infinite;\n",
              "  }\n",
              "\n",
              "  @keyframes spin {\n",
              "    0% {\n",
              "      border-color: transparent;\n",
              "      border-bottom-color: var(--fill-color);\n",
              "      border-left-color: var(--fill-color);\n",
              "    }\n",
              "    20% {\n",
              "      border-color: transparent;\n",
              "      border-left-color: var(--fill-color);\n",
              "      border-top-color: var(--fill-color);\n",
              "    }\n",
              "    30% {\n",
              "      border-color: transparent;\n",
              "      border-left-color: var(--fill-color);\n",
              "      border-top-color: var(--fill-color);\n",
              "      border-right-color: var(--fill-color);\n",
              "    }\n",
              "    40% {\n",
              "      border-color: transparent;\n",
              "      border-right-color: var(--fill-color);\n",
              "      border-top-color: var(--fill-color);\n",
              "    }\n",
              "    60% {\n",
              "      border-color: transparent;\n",
              "      border-right-color: var(--fill-color);\n",
              "    }\n",
              "    80% {\n",
              "      border-color: transparent;\n",
              "      border-right-color: var(--fill-color);\n",
              "      border-bottom-color: var(--fill-color);\n",
              "    }\n",
              "    90% {\n",
              "      border-color: transparent;\n",
              "      border-bottom-color: var(--fill-color);\n",
              "    }\n",
              "  }\n",
              "</style>\n",
              "\n",
              "  <script>\n",
              "    async function quickchart(key) {\n",
              "      const quickchartButtonEl =\n",
              "        document.querySelector('#' + key + ' button');\n",
              "      quickchartButtonEl.disabled = true;  // To prevent multiple clicks.\n",
              "      quickchartButtonEl.classList.add('colab-df-spinner');\n",
              "      try {\n",
              "        const charts = await google.colab.kernel.invokeFunction(\n",
              "            'suggestCharts', [key], {});\n",
              "      } catch (error) {\n",
              "        console.error('Error during call to suggestCharts:', error);\n",
              "      }\n",
              "      quickchartButtonEl.classList.remove('colab-df-spinner');\n",
              "      quickchartButtonEl.classList.add('colab-df-quickchart-complete');\n",
              "    }\n",
              "    (() => {\n",
              "      let quickchartButtonEl =\n",
              "        document.querySelector('#df-e8373218-3e74-4a96-af74-8c28cf517e64 button');\n",
              "      quickchartButtonEl.style.display =\n",
              "        google.colab.kernel.accessAllowed ? 'block' : 'none';\n",
              "    })();\n",
              "  </script>\n",
              "</div>\n",
              "    </div>\n",
              "  </div>\n"
            ],
            "application/vnd.google.colaboratory.intrinsic+json": {
              "type": "dataframe",
              "variable_name": "df"
            }
          },
          "metadata": {},
          "execution_count": 3
        }
      ]
    },
    {
      "cell_type": "code",
      "source": [
        "# Set display options to show full text in columns\n",
        "pd.set_option('display.max_colwidth', None)\n",
        "df.loc[1:3,'SECTION_TEXT']"
      ],
      "metadata": {
        "colab": {
          "base_uri": "https://localhost:8080/"
        },
        "id": "x9ZZNPp5XvGd",
        "outputId": "8b0e1203-6fc3-4990-fb0f-19e76a1f3577"
      },
      "execution_count": 4,
      "outputs": [
        {
          "output_type": "execute_result",
          "data": {
            "text/plain": [
              "1                                                                                                                                                                                                                                                                                                                                                                                                                                                                                                                                                                                                                                                                                                                                                                                                                                                                                                                                                                                                                                                                                                                                                                                                                                                                                                                                                                                                                                                                                                                                                                                                                                                                                                                                                                                                                                                                                                                                                                                                                                                                                                                                                                                                                                                                                                                                                                                                                                                                                                                                                                                                                                                                                                                                                                                                                                                                                                                                                                                                                                                                                                                                                                                                                                                                                                                                                                                                                                                                                                                                                                                                                                                                                                                                                                                                                                                                                                                                                                                                                                                                                                                                                                                                                                                                                                                                                                                                                                                                                                                                                                                                                                                                                                                                                                                                                                                                                                                                                                                                                                                                                                                                                                                                                                                                                                                                                                                                                                                                                                                                                                                                                                                                                                                                                                                                                                                                                                                                                                                                                                                                                                                                                                                                                                                                                                                                                                                                                                                                                                                                                                                                                                                                                                                                                                                                                                                                                                                                                                                                                                                                                                                                                                                                                                                                                                                                                                                                                                                                                                                                                                                                                                                                                                                                                                                                                                                                                                                                                                                                                                                                                                                                                                                                                                                                                                                                                                                                                                                                                                                                                                                                                                                                                                                                                                                                                                                                                                                                                                                                                                                                                                                                                                                                                                                                                                                                                                                                                                                                                                                                                                                                                                                                                                                                                                                                                                                                                                                                                                                                                                                                                                                                                                                                                                                                                                                                                                                                                                                                                                                                                                                                                                                                                                                                                                                                                                                                                                                                                                                                                                                                                                                                                                                                                                                                                                                                                                                                                                                                                                                                                                                                                                                                                                                                                                                                                                                                                                                                                                                                                                                                                                                                                                                                                                                                                                                                                                                                                                                                                                                                                                                                                                                                                                                                                                                                                                                                                                                                                                                                                                                                                                                                                                                                                                                                                                                                                                                                                                                                                                                                                                                                                                                                                                                                                                                                                                                                                                                                                                                                                                                                                                                                                                                                                                                                                                                                                                                                                                                                                                                                                                                                                                                                                                                                                                                                                                                                                                                                                                                                                                                                                                                                                                                                                                                                                                                                                                                                                                                                                                                                                                                                                                                                                                                                                                                                                                                                                                                                                                                                                                                                                                                                                                                                                                                                                                                                                                                                                                                                                                                                                                                                                                                                                                                                                                                                                                                                                                                                                                                                                                                                                                                                                                                                                                                                                                                                                                                                                                                                                                                                                                                                                                                                                                                                                                                                                                                                                                                                                                                                                                                                                                                                                                                                                                                                                                                                                                                                                                                                                                                                                                                                                                                                                                                                                                                                                                                                                                                                                                                                                                                                                                                                                                                                                                                                                                                                                                                                                                                                                                                                                                                                                                                                                                                                                                                                                                                                                                                                                                                                                                                                                                                                                                                                                                                                                                                                                                                                                                                                                                                                                                                                                                                                                                                                                                                                                                                                                                                                                                                                                                                                                                                                                                                                                                                                                                                                                                                                                                                                                                                                                                                                                                                                                                                                                                                                                                                                                                                                                                                                                                                                                                                                                                                                                                                                                                                                                                                                                                                                                                                                                                                                                                                                                                                                                                                                                                                                                                                                                                                                                                                                                                                                                                                                                                                                                                                                                                                                                                                                                                                                                                                                                                                                                                                                                                                                                                                                                                                                                                                                                                                                                                                                                                                                                                                                                                                                                                                                                                                                                                                                                                                                                                                                                                                                                                                                                                                                                                                                                                                                                                                                                                                                                                                                                                                                                                                                                                                                                                                                                                                                                                                                                                                                                                                                                                                                                                                                                                                                                                                                                                                                                                                                                                                                                                                                                                                                                                                                                                                                                                                                                                                                                                                                                                                                                                                                                                                                                                                                                                                                                                                                                                                                                                                                                                                                                                                                                                                                                                                                                                                                                                                                                                                                                                                                                                                                                                                                                                                                                                                                                                                                                                                                                                                                                                                                                                                                                                                                                                                                                                                                                                                                                                                                                                                                                                                                                                                                                                                                                                                                                                                                                                                                                                                                                                                                                                                                                                                                                                                                                                                                                                                                                                                                                                                                                                                                                                                                                                                                                                                                                                                                                                                                                                                                                                                                                                                                                                                                                                                                                                                                                                                                                                                                                                                                                                                                                                                                                                                                                                                                                                                                                                                                                                                                                                                                                                                                                                                                                                                                                                                                                                                                                                                                                                                                                                                                                                                                                                                                                                                                                                                                                                                                                                                                                                                                                                                                                                                                                                                                                                                                                                                                                                                                                                                                                                                                                                                                                                                                                                                                                                                                                                                                                                                                                                                                                                                                                                                                                                                                                                                                                                                                                                                                                                                                                                                                                                                                                                                                                                                                                                                                                                                                                                                                                                                                                                                                                                                                                       \\n\\nThe term ''anarchism'' is a compound word composed from the word ''anarchy'' and the suffix ''-ism'' themselves derived respectively from the Greek  i.e. ''anarchy'' (from  ''anarchos'' meaning \"one without rulers\"; from the privative prefix ἀν- (''an-'' i.e. \"without\") and  ''archos'' i.e. \"leader\" \"ruler\"; (cf. ''archon'' or  ''arkhē'' i.e. \"authority\" \"sovereignty\" \"realm\" \"magistracy\")) and the suffix  or  (''-ismos'' ''-isma'' from the verbal infinitive suffix -ίζειν ''-izein''). The first known use of this word was in 1539. Various factions within the French Revolution labelled opponents as anarchists (as Robespierre did the Hébertists) although few shared many views of later anarchists.  There would be many revolutionaries of the early nineteenth century who contributed to the anarchist doctrines of the next generation such as William Godwin and Wilhelm Weitling but they did not use the word ''anarchist'' or ''anarchism'' in describing themselves or their beliefs.\\n\\nThe first political philosopher to call himself an anarchist was Pierre-Joseph Proudhon marking the formal birth of anarchism in the mid-nineteenth century. Since the 1890s and beginning in France the term ''libertarianism'' has often been used as a synonym for anarchism and was used almost exclusively in this sense until the 1950s in the United States; its use as a synonym is still common outside the United States. On the other hand some use ''libertarianism'' to refer to individualistic free-market philosophy only referring to free-market anarchism as ''libertarian anarchism''.\\n\n",
              "2    \\n\\n===Origins===\\nWoodcut from a Diggers document by William Everard\\n\\nThe earliest anarchist themes can be found in the 6th century BC among the works of Taoist philosopher Laozi and in later centuries by Zhuangzi and Bao Jingyan. Zhuangzi's philosophy has been described by various sources as anarchist. Zhuangzi wrote \"A petty thief is put in jail. A great brigand becomes a ruler of a Nation.\" Diogenes of Sinope and the Cynics and their contemporary Zeno of Citium the founder of Stoicism also introduced similar topics. Jesus is sometimes considered the first anarchist in the Christian anarchist tradition. Georges Lechartier wrote that \"The true founder of anarchy was Jesus Christ and ... the first anarchist society was that of the apostles.\" In early Islamic history some manifestations of anarchic thought are found during the Islamic civil war over the Caliphate where the Kharijites insisted that the imamate is a right for each individual within the Islamic society.\\n\\nThe French renaissance political philosopher Étienne de La Boétie wrote in his most famous work the ''Discourse on Voluntary Servitude'' what some historians consider an important anarchist precedent. The radical Protestant Christian Gerrard Winstanley and his group the Diggers are cited by various authors as proposing anarchist social measures in the 17th century in England. The term \"anarchist\" first entered the English language in 1642 during the English Civil War as a term of abuse used by Royalists against their Roundhead opponents. By the time of the French Revolution some such as the ''Enragés'' began to use the term positively in opposition to Jacobin centralisation of power seeing \"revolutionary government\" as oxymoronic. By the turn of the 19th century the English word \"anarchism\" had lost its initial negative connotation.\\n\\nModern anarchism emerged from the secular or religious thought of the Enlightenment particularly Jean-Jacques Rousseau's arguments for the moral centrality of freedom.\\n\\nAs part of the political turmoil of the 1790s in the wake of the French Revolution William Godwin developed the first expression of modern anarchist thought. Godwin was according to Peter Kropotkin \"the first to formulate the political and economical conceptions of anarchism even though he did not give that name to the ideas developed in his work\" while Godwin attached his anarchist ideas to an early Edmund Burke.\\n\\nWilliam Godwin \"the first to formulate the political and economical conceptions of anarchism even though he did not give that name to the ideas developed in his work\".\\nGodwin is generally regarded as the founder of the school of thought known as 'philosophical anarchism'. He argued in ''Political Justice'' (1793) that government has an inherently malevolent influence on society and that it perpetuates dependency and ignorance. He thought that the spread of the use of reason to the masses would eventually cause government to wither away as an unnecessary force. Although he did not accord the state with moral legitimacy he was against the use of revolutionary tactics for removing the government from power. Rather he advocated for its replacement through a process of peaceful evolution.\\n\\nHis aversion to the imposition of a rules-based society led him to denounce as a manifestation of the people's 'mental enslavement' the foundations of law property rights and even the institution of marriage. He considered the basic foundations of society as constraining the natural development of individuals to use their powers of reasoning to arrive at a mutually beneficial method of social organisation. In each case government and its institutions are shown to constrain the development of our capacity to live wholly in accordance with the full and free exercise of private judgement.\\n\\nThe French Pierre-Joseph Proudhon is regarded as the first ''self-proclaimed'' anarchist a label he adopted in his groundbreaking work ''What is Property?'' published in 1840. It is for this reason that some claim Proudhon as the founder of modern anarchist theory. He developed the theory of spontaneous order in society where organisation emerges without a central coordinator imposing its own idea of order against the wills of individuals acting in their own interests; his famous quote on the matter is \"Liberty is the mother not the daughter of order.\" In ''What is Property?'' Proudhon answers with the famous accusation \"Property is theft.\" In this work he opposed the institution of decreed \"property\" (''propriété'') where owners have complete rights to \"use and abuse\" their property as they wish. He contrasted this with what he called \"possession\" or limited ownership of resources and goods only while in more or less continuous use. Later however Proudhon added that \"Property is Liberty\" and argued that it was a bulwark against state power. His opposition to the state organised religion and certain capitalist practices inspired subsequent anarchists and made him one of the leading social thinkers of his time.\\n\\nThe anarcho-communist Joseph Déjacque was the first person to describe himself as \"libertarian\". Unlike Pierre-Joseph Proudhon he argued that \"it is not the product of his or her labour that the worker has a right to but to the satisfaction of his or her needs whatever may be their nature.\" In 1844 in Germany the post-hegelian philosopher Max Stirner published the book ''The Ego and Its Own'' which would later be considered an influential early text of individualist anarchism. French anarchists active in the 1848 Revolution included Anselme Bellegarrigue Ernest Coeurderoy Joseph Déjacque and Pierre Joseph Proudhon.\\n\\n\\n===First International and the Paris Commune===\\n\\nAnarchist Mikhail Bakunin opposed the Marxist aim of dictatorship of the proletariat in favour of universal rebellion and allied himself with the federalists in the First International before his expulsion by the Marxists.\\n\\nIn Europe harsh reaction followed the revolutions of 1848 during which ten countries had experienced brief or long-term social upheaval as groups carried out nationalist uprisings. After most of these attempts at systematic change ended in failure conservative elements took advantage of the divided groups of socialists anarchists liberals and nationalists to prevent further revolt. In Spain Ramón de la Sagra established the anarchist journal ''El Porvenir'' in La Coruña in 1845 which was inspired by Proudhon´s ideas. The Catalan politician Francesc Pi i Margall became the principal translator of Proudhon's works into Spanish and later briefly became president of Spain in 1873 while being the leader of the Democratic Republican Federal Party. According to George Woodcock \"These translations were to have a profound and lasting effect on the development of Spanish anarchism after 1870 but before that time Proudhonian ideas as interpreted by Pi already provided much of the inspiration for the federalist movement which sprang up in the early 1860's.\" According to the ''Encyclopædia Britannica'' \"During the Spanish revolution of 1873 Pi y Margall attempted to establish a decentralised or \"cantonalist\" political system on Proudhonian lines.\"\\n\\nIn 1864 the International Workingmen's Association (sometimes called the \"First International\") united diverse revolutionary currents including French followers of Proudhon Blanquists Philadelphes English trade unionists socialists and social democrats. Due to its links to active workers' movements the International became a significant organisation. Karl Marx became a leading figure in the International and a member of its General Council. Proudhon's followers the mutualists opposed Marx's state socialism advocating political abstentionism and small property holdings. Woodcock also reports that the American individualist anarchists Lysander Spooner and William B. Greene had been members of the First International. In 1868 following their unsuccessful participation in the League of Peace and Freedom (LPF) Russian revolutionary Mikhail Bakunin and his collectivist anarchist associates joined the First International (which had decided not to get involved with the LPF). They allied themselves with the federalist socialist sections of the International who advocated the revolutionary overthrow of the state and the collectivisation of property.\\n\\nAt first the collectivists worked with the Marxists to push the First International in a more revolutionary socialist direction. Subsequently the International became polarised into two camps with Marx and Bakunin as their respective figureheads. Mikhail Bakunin characterised Marx's ideas as centralist and predicted that if a Marxist party came to power its leaders would simply take the place of the ruling class they had fought against. Anarchist historian George Woodcock reports that \"The annual Congress of the International had not taken place in 1870 owing to the outbreak of the Paris Commune and in 1871 the General Council called only a special conference in London. One delegate was able to attend from Spain and none from Italy while a technical excuse – that they had split away from the Fédération Romande – was used to avoid inviting Bakunin's Swiss supporters. Thus only a tiny minority of anarchists was present and the General Council's resolutions passed almost unanimously. Most of them were clearly directed against Bakunin and his followers.\" In 1872 the conflict climaxed with a final split between the two groups at the Hague Congress where Bakunin and James Guillaume were expelled from the International and its headquarters were transferred to New York. In response the federalist sections formed their own International at the St. Imier Congress adopting a revolutionary anarchist programme.\\n\\nThe Paris Commune was a government that briefly ruled Paris from 18 March (more formally from 28 March) to 28 May 1871. The Commune was the result of an uprising in Paris after France was defeated in the Franco-Prussian War. Anarchists participated actively in the establishment of the Paris Commune. They included Louise Michel the Reclus brothers and Eugene Varlin (the latter murdered in the repression afterwards). As for the reforms initiated by the Commune such as the re-opening of workplaces as co-operatives anarchists can see their ideas of associated labour beginning to be realised ... Moreover the Commune's ideas on federation obviously reflected the influence of Proudhon on French radical ideas. Indeed the Commune's vision of a communal France based on a federation of delegates bound by imperative mandates issued by their electors and subject to recall at any moment echoes Bakunin's and Proudhon's ideas (Proudhon like Bakunin had argued in favour of the \"implementation of the binding mandate\" in 1848 ... and for federation of communes). Thus both economically and politically the Paris Commune was heavily influenced by anarchist ideas. George Woodcock states:\\n\\n\\n===Organised labour===\\n\\nThe anti-authoritarian sections of the First International were the precursors of the anarcho-syndicalists seeking to \"replace the privilege and authority of the State\" with the \"free and spontaneous organization of labour.\" In 1886 the Federation of Organized Trades and Labor Unions (FOTLU) of the United States and Canada unanimously set 1 May 1886 as the date by which the eight-hour work day would become standard.\\nA sympathetic engraving by Walter Crane of the executed \"Anarchists of Chicago\" after the Haymarket affair. The Haymarket affair is generally considered the most significant event for the origin of international May Day observances.\\nIn response unions across the United States prepared a general strike in support of the event. On 3 May in Chicago a fight broke out when strikebreakers attempted to cross the picket line and two workers died when police opened fire upon the crowd. The next day 4 May anarchists staged a rally at Chicago's Haymarket Square. A bomb was thrown by an unknown party near the conclusion of the rally killing an officer. In the ensuing panic police opened fire on the crowd and each other. Seven police officers and at least four workers were killed. Eight anarchists directly and indirectly related to the organisers of the rally were arrested and charged with the murder of the deceased officer. The men became international political celebrities among the labour movement. Four of the men were executed and a fifth committed suicide prior to his own execution. The incident became known as the Haymarket affair and was a setback for the labour movement and the struggle for the eight-hour day. In 1890 a second attempt this time international in scope to organise for the eight-hour day was made. The event also had the secondary purpose of memorialising workers killed as a result of the Haymarket affair. Although it had initially been conceived as a once-off event by the following year the celebration of International Workers' Day on May Day had become firmly established as an international worker's holiday.\\n\\nIn 1907 the International Anarchist Congress of Amsterdam gathered delegates from 14 different countries among which important figures of the anarchist movement including Errico Malatesta Pierre Monatte Luigi Fabbri Benoît Broutchoux Emma Goldman Rudolf Rocker and Christiaan Cornelissen. Various themes were treated during the Congress in particular concerning the organisation of the anarchist movement popular education issues the general strike or antimilitarism. A central debate concerned the relation between anarchism and syndicalism (or trade unionism). Malatesta and Monatte were in particular disagreement themselves on this issue as the latter thought that syndicalism was revolutionary and would create the conditions of a social revolution while Malatesta did not consider syndicalism by itself sufficient. He thought that the trade-union movement was reformist and even conservative citing as essentially bourgeois and anti-worker the phenomenon of professional union officials. Malatesta warned that the syndicalists aims were in perpetuating syndicalism itself whereas anarchists must always have anarchy as their end and consequently refrain from committing to any particular method of achieving it.\\n\\nThe Spanish Workers Federation in 1881 was the first major anarcho-syndicalist movement; anarchist trade union federations were of special importance in Spain. The most successful was the Confederación Nacional del Trabajo (National Confederation of Labour: CNT) founded in 1910. Before the 1940s the CNT was the major force in Spanish working class politics attracting 1.58 million members at one point and playing a major role in the Spanish Civil War. The CNT was affiliated with the International Workers Association a federation of anarcho-syndicalist trade unions founded in 1922 with delegates representing two million workers from 15 countries in Europe and Latin America. In Latin America in particular \"The anarchists quickly became active in organising craft and industrial workers throughout South and Central America and until the early 1920s most of the trade unions in Mexico Brazil Peru Chile and Argentina were anarcho-syndicalist in general outlook; the prestige of the Spanish C.N.T. as a revolutionary organisation was undoubtedly to a great extent responsible for this situation. The largest and most militant of these organisations was the Federación Obrera Regional Argentina ... it grew quickly to a membership of nearly a quarter of a million which dwarfed the rival socialdemocratic unions.\"\\n\\n\\n===Propaganda of the deed and illegalism===\\n\\nItalian-American anarchist Luigi Galleani. His followers known as Galleanists carried out a series of bombings and assassination attempts from 1914 to 1932 in what they saw as attacks on 'tyrants' and 'enemies of the people'\\nSome anarchists such as Johann Most advocated publicising violent acts of retaliation against counter-revolutionaries because \"we preach not only action in and for itself but also action as propaganda.\" Scholars such as Beverly Gage contend that this was not advocacy of mass murder but targeted killings of members of the ruling class at times when such actions might garner sympathy from the population such as during periods of heightened government repression or labor conflicts where workers were killed. However Most himself once boasted that \"the existing system will be quickest and most radically overthrown by the annihilation of its exponents. Therefore massacres of the enemies of the people must be set in motion.\" Most is best known for a pamphlet published in 1885: ''The Science of Revolutionary Warfare'' a how-to manual on the subject of making explosives based on knowledge he acquired while working at an explosives plant in New Jersey.\\n\\nBy the 1880s people inside and outside the anarchist movement began to use the slogan \"propaganda of the deed\" to refer to individual bombings regicides and tyrannicides. From 1905 onwards the Russian counterparts of these anti-syndicalist anarchist-communists become partisans of economic terrorism and illegal 'expropriations'.\" Illegalism as a practice emerged and within it \"The acts of the anarchist bombers and assassins (\"propaganda by the deed\") and the anarchist burglars (\"individual reappropriation\") expressed their desperation and their personal violent rejection of an intolerable society. Moreover they were clearly meant to be ''exemplary'' invitations to revolt.\". France's Bonnot Gang was the most famous group to embrace illegalism.\\n\\nHowever as soon as 1887 important figures in the anarchist movement distanced themselves from such individual acts. Peter Kropotkin thus wrote that year in ''Le Révolté'' that \"a structure based on centuries of history cannot be destroyed with a few kilos of dynamite\". A variety of anarchists advocated the abandonment of these sorts of tactics in favour of collective revolutionary action for example through the trade union movement. The anarcho-syndicalist Fernand Pelloutier argued in 1895 for renewed anarchist involvement in the labour movement on the basis that anarchism could do very well without \"the individual dynamiter.\"\\n\\nState repression (including the infamous 1894 French ''lois scélérates'') of the anarchist and labour movements following the few successful bombings and assassinations may have contributed to the abandonment of these kinds of tactics although reciprocally state repression in the first place may have played a role in these isolated acts. The dismemberment of the French socialist movement into many groups and following the suppression of the 1871 Paris Commune the execution and exile of many ''communards'' to penal colonies favoured individualist political expression and acts.\\n\\nNumerous heads of state were assassinated between 1881 and 1914 by members of the anarchist movement including Tsar Alexander II of Russia President Sadi Carnot of France Empress Elisabeth of Austria King Umberto I of Italy President William McKinley of the United States King Carlos I of Portugal and King George I of Greece. McKinley's assassin Leon Czolgosz claimed to have been influenced by anarchist and feminist Emma Goldman.\\n\\n===Russian Revolution and other uprisings of the 1910s===\\n\\nNestor Makhno with members of the anarchist Revolutionary Insurrectionary Army of Ukraine\\nAnarchists participated alongside the Bolsheviks in both February and October revolutions and were initially enthusiastic about the Bolshevik revolution. However following a political falling out with the Bolsheviks by the anarchists and other left-wing opposition the conflict culminated in the 1921 Kronstadt rebellion which the new government repressed. Anarchists in central Russia were either imprisoned driven underground or joined the victorious Bolsheviks; the anarchists from Petrograd and Moscow fled to Ukraine. There in the Free Territory they fought in the civil war against the Whites (a grouping of monarchists and other opponents of the October Revolution) and then the Bolsheviks as part of the Revolutionary Insurrectionary Army of Ukraine led by Nestor Makhno who established an anarchist society in the region for a number of months.\\n\\nExpelled American anarchists Emma Goldman and Alexander Berkman were among those agitating in response to Bolshevik policy and the suppression of the Kronstadt uprising before they left Russia. Both wrote accounts of their experiences in Russia criticising the amount of control the Bolsheviks exercised. For them Bakunin's predictions about the consequences of Marxist rule that the rulers of the new \"socialist\" Marxist state would become a new elite had proved all too true.\\n\\nThe victory of the Bolsheviks in the October Revolution and the resulting Russian Civil War did serious damage to anarchist movements internationally. Many workers and activists saw Bolshevik success as setting an example; Communist parties grew at the expense of anarchism and other socialist movements. In France and the United States for example members of the major syndicalist movements of the CGT and IWW left the organisations and joined the Communist International.\\n\\nThe revolutionary wave of 1917–23 saw the active participation of anarchists in varying degrees of protagonism. In the German uprising known as the German Revolution of 1918–1919 which established the Bavarian Soviet Republic the anarchists Gustav Landauer Silvio Gesell and Erich Mühsam had important leadership positions within the revolutionary councilist structures. In the Italian events known as the ''biennio rosso'' the anarcho-syndicalist trade union Unione Sindacale Italiana \"grew to 800000 members and the influence of the Italian Anarchist Union (20000 members plus ''Umanita Nova'' its daily paper) grew accordingly ... Anarchists were the first to suggest occupying workplaces. In the Mexican Revolution the Mexican Liberal Party was established and during the early 1910s it led  a series of military offensives leading to the conquest and occupation of certain towns and districts in Baja California with the leadership of anarcho-communist Ricardo Flores Magón.\\n\\nIn Paris the Dielo Truda group of Russian anarchist exiles which included Nestor Makhno concluded that anarchists needed to develop new forms of organisation in response to the structures of Bolshevism. Their 1926 manifesto called the ''Organisational Platform of the General Union of Anarchists (Draft)'' was supported. Platformist groups active today include the Workers Solidarity Movement in Ireland and the North Eastern Federation of Anarchist Communists of North America. Synthesis anarchism emerged as an organisational alternative to platformism that tries to join anarchists of different tendencies under the principles of anarchism without adjectives. In the 1920s this form found as its main proponents Volin and Sebastien Faure. It is the main principle behind the anarchist federations grouped around the contemporary global International of Anarchist Federations.\\n\\n===Conflicts with European fascist regimes===\\n\\n\\n\\nIn the 1920s and 1930s the rise of fascism in Europe transformed anarchism's conflict with the state. Italy saw the first struggles between anarchists and fascists. Italian anarchists played a key role in the anti-fascist organisation ''Arditi del Popolo'' which was strongest in areas with anarchist traditions and achieved some success in their activism such as repelling Blackshirts in the anarchist stronghold of Parma in August 1922. The veteran Italian anarchist Luigi Fabbri was one of the first critical theorists of fascism describing it as \"the preventive counter-revolution.\"  In France where the far right leagues came close to insurrection in the February 1934 riots anarchists divided over a united front policy.\\n\\nAnarchists in France and Italy were active in the Resistance during World War II. In Germany the anarchist Erich Mühsam was arrested on charges unknown in the early morning hours of 28 February 1933 within a few hours after the Reichstag fire in Berlin. Joseph Goebbels the Nazi propaganda minister labelled him as one of \"those Jewish subversives.\" Over the next seventeen months he would be imprisoned in the concentration camps at Sonnenburg Brandenburg and finally Oranienburg. On 2 February 1934 Mühsam was transferred to the concentration camp at Oranienburg when finally on the night of 9 July 1934 Mühsam was tortured and murdered by the guards his battered corpse found hanging in a latrine the next morning.\\n\\n===Spanish Revolution===\\n\\nIn Spain the national anarcho-syndicalist trade union Confederación Nacional del Trabajo initially refused to join a popular front electoral alliance and abstention by CNT supporters led to a right wing election victory. But in 1936 the CNT changed its policy and anarchist votes helped bring the popular front back to power. Months later conservative members of the military with the support of minority extreme-right parties responded with an attempted coup causing the Spanish Civil War (1936–1939). In response to the army rebellion an anarchist-inspired movement of peasants and workers supported by armed militias took control of Barcelona and of large areas of rural Spain where they collectivised the land. But even before the fascist victory in 1939 the anarchists were losing ground in a bitter struggle with the Stalinists who controlled much of the distribution of military aid to the Republican cause from the Soviet Union. According to Noam Chomsky \"the communists were mainly responsible for the destruction of the Spanish anarchists. Not just in Catalonia—the communist armies mainly destroyed the collectives elsewhere. The communists basically acted as the police force of the security system of the Republic and were very much opposed to the anarchists partially because Stalin still hoped at that time to have some kind of pact with Western countries against Hitler. That of course failed and Stalin withdrew the support to the Republic. They even withdrew the Spanish gold reserves.\"  The events known as the Spanish Revolution was a workers' social revolution that began during the outbreak of the Spanish Civil War in 1936 and resulted in the widespread implementation of anarchist and more broadly libertarian socialist organisational principles throughout various portions of the country for two to three years primarily Catalonia Aragon Andalusia and parts of the Levante. Much of Spain's economy was put under worker control; in anarchist strongholds like Catalonia the figure was as high as 75% but lower in areas with heavy Communist Party of Spain influence as the Soviet-allied party actively resisted attempts at collectivisation enactment. Factories were run through worker committees agrarian areas became collectivised and run as libertarian communes. Anarchist historian Sam Dolgoff estimated that about eight million people participated directly or at least indirectly in the Spanish Revolution which he claimed \"came closer to realising the ideal of the free stateless society on a vast scale than any other revolution in history.\" Spanish Communist Party-led troops suppressed the collectives and persecuted both dissident Marxists and anarchists. The prominent Italian anarchist Camillo Berneri who volunteered to fight against Franco was killed instead in Spain by gunmen associated with the Spanish Communist Party. The city of Madrid was turned over to the francoist forces by the last non-francoist mayor of the city the anarchist Melchor Rodríguez García.\\n\\n===Post-war years===\\n\\n\\nAnarchism sought to reorganise itself after the war and in this context the organisational debate between synthesis anarchism and platformism took importance once again especially in the anarchist movements of Italy and France. The Mexican Anarchist Federation was established in 1945 after the Anarchist Federation of the Centre united with the Anarchist Federation of the Federal District. In the early 1940s the Antifascist International Solidarity and the Federation of Anarchist Groups of Cuba merged into the large national organisation Asociación Libertaria de Cuba (Cuban Libertarian Association). From 1944 to 1947 the Bulgarian Anarchist Communist Federation reemerged as part of a factory and workplace committee movement but was repressed by the new Communist regime. In 1945 in France the Fédération Anarchiste and the anarchosyndicalist trade union Confédération nationale du travail was established in the next year while the also synthesist Federazione Anarchica Italiana was founded in Italy. Korean anarchists formed the League of Free Social Constructors in September 1945 and in 1946 the Japanese Anarchist Federation was founded. An International Anarchist Congress with delegates from across Europe was held in Paris in May 1948. After World War II an appeal in the ''Fraye Arbeter Shtime'' detailing the plight of German anarchists and called for Americans to support them. By February 1946 the sending of aid parcels to anarchists in Germany was a large-scale operation. The Federation of Libertarian Socialists was founded in Germany in 1947 and Rudolf Rocker wrote for its organ ''Die Freie Gesellschaft'' which survived until 1953. In 1956 the Uruguayan Anarchist Federation was founded. In 1955 the Anarcho-Communist Federation of Argentina renamed itself as the Argentine Libertarian Federation. The Syndicalist Workers' Federation was a syndicalist group in active in post-war Britain and one of Solidarity Federation's earliest predecessors. It was formed in 1950 by members of the dissolved Anarchist Federation of Britain. Unlike the AFB which was influenced by anarcho-syndicalist ideas but ultimately not syndicalist itself the SWF decided to pursue a more definitely syndicalist worker-centred strategy from the outset.\\n\\nAnarchism continued to influence important literary and intellectual personalities of the time such as Albert Camus Herbert Read Paul Goodman Dwight Macdonald Allen Ginsberg George Woodcock Leopold Kohr Julian Beck John Cage and the French Surrealist group led by André Breton which now openly embraced anarchism and collaborated in the Fédération Anarchiste.\\n\\nAnarcho-pacifism became influential in the Anti-nuclear movement and anti war movements of the time as can be seen in the activism and writings of the English anarchist member of Campaign for Nuclear Disarmament Alex Comfort or the similar activism of the American catholic anarcho-pacifists  Ammon Hennacy and Dorothy Day. Anarcho-pacifism became a \"basis for a critique of militarism on both sides of the Cold War.\" The resurgence of anarchist ideas during this period is well documented in Robert Graham's Anarchism: A Documentary History of Libertarian Ideas ''Volume Two: The Emergence of the New Anarchism (1939–1977)''.\\n\\n===Contemporary anarchism===\\n\\nsquat near Parc Güell overlooking Barcelona. Squatting was a prominent part of the emergence of renewed anarchist movement from the counterculture of the 1960s and 1970s. On the roof: \"Occupy and Resist\" A surge of popular interest in anarchism occurred in western nations during the 1960s and 1970s. Anarchism was influential in the Counterculture of the 1960s and anarchists actively participated in the late sixties students and workers revolts. In 1968 in Carrara Italy the International of Anarchist Federations was founded during an international anarchist conference held there in 1968 by the three existing European federations of France (the Fédération Anarchiste) the Federazione Anarchica Italiana of Italy and the Iberian Anarchist Federation as well as the Bulgarian federation in French exile.\\n\\nIn the United Kingdom in the 1970s this was associated with the punk rock movement as exemplified by bands such as Crass and the Sex Pistols. The housing and employment crisis in most of Western Europe led to the formation of communes and squatter movements like that of Barcelona Spain. In Denmark squatters occupied a disused military base and declared the Freetown Christiania an autonomous haven in central Copenhagen. Since the revival of anarchism in the mid-20th century a number of new movements and schools of thought emerged. Although feminist tendencies have always been a part of the anarchist movement in the form of anarcha-feminism they returned with vigour during the second wave of feminism in the 1960s. Anarchist anthropologist David Graeber and anarchist historian Andrej Grubacic have posited a rupture between generations of anarchism with those \"who often still have not shaken the sectarian habits\" of the 19th century contrasted with the younger activists who are \"much more informed among other elements by indigenous feminist ecological and cultural-critical ideas\" and who by the turn of the 21st century formed \"by far the majority\" of anarchists.\\n\\nAround the turn of the 21st century anarchism grew in popularity and influence as part of the anti-war anti-capitalist and anti-globalisation movements. Anarchists became known for their involvement in protests against the meetings of the World Trade Organization (WTO) Group of Eight and the World Economic Forum. Some anarchist factions at these protests engaged in rioting property destruction and violent confrontations with police. These actions were precipitated by ad hoc leaderless anonymous cadres known as ''black blocs''; other organisational tactics pioneered in this time include security culture affinity groups and the use of decentralised technologies such as the internet. A significant event of this period was the confrontations at WTO conference in Seattle in 1999. According to anarchist scholar Simon Critchley \"contemporary anarchism can be seen as a powerful critique of the pseudo-libertarianism of contemporary neo-liberalism ... One might say that contemporary anarchism is about responsibility whether sexual ecological or socio-economic; it flows from an experience of conscience about the manifold ways in which the West ravages the rest; it is an ethical outrage at the yawning inequality impoverishment and disenfranchisment that is so palpable locally and globally.\"\\n\\nInternational anarchist federations in existence include the International of Anarchist Federations the International Workers' Association and International Libertarian Solidarity.\\nThe largest organised anarchist movement today is in Spain in the form of the Confederación General del Trabajo (CGT) and the CNT. CGT membership was estimated at around 100000 for 2003.\\n\n",
              "3                                                                                                                                                                                                                                                                                                                                                                                                                                                                                                                                                                                                                                                                                                                                                                                                                                                                                                                                                                                                                                                                                                                                                                                                                                                                                                                                                                                                                                                                                                                                                                                                                                                                                                                                                                                                                                                                                                                                                                                                                                                                                                                                                                                                                                                                                                                                                                                                                                                                                                                                                                                                                                                                                                                                                                                                                                                                                                                                                                                                                                                                                                                                                                                                                                                                                                                                                                                                                                                                                                                                                                                                                                                                                                                                                                                                                                                                                                                                                                                                                                                                                                                                                                                                                                                                                                                                                                                                                                                                                                                                                                                                                                                                                                                                                                                                                                                                                                                                                                                                                                                                                                                                                                                                                                                                                                                                                                                                                                                                                                                                                                                                                                                                                                                                                                                                                                                                                                                                                                                                                                                                                                                                                                                                                                                                                                                                                                                                                                                                                                                                                                                                                                                                                                                                                                                                                                                                                                                                                                                                                                                                                                                                                                                                                                                                                                                                                                                                                                                                                                                                                                                                                                                                                                                                                                                                                                                                                                                                                                                                                                                                                                                                                                                                                                                                                                                                                                                                                                                                                                                                                                                                                                                                                                                                                                                                                                                                                                                                                                                                                                                                                                                                                                                                                                                                                                                                                                                                                                                                                                                                                                                                                                                                                                                                                                                                                                                                                                                                                                                                                                                                                                                                                                                                                                                                                                                                                                                                                                                                                                                                                                                                                                                                                                                                                                                                                                                                                                                                                                                                                                                                                                                                                                                                                                                                                                                                                                                                                                                                                                                                                                                                                                                                                                                                                                                                                                                                                                                                                                                                                                                                                                                                                                                                                                                                                                                                                                                                                                                                                                                                                                                                                                                                                                                                                                                                                                                                                                                                                                                                                                                                                                                                                                                                                                                                                                                                                                                                                                                                                                                                                                                                                                                                                                                                                                                                                                                                                                                                                                                                                                                                                                                                                                                                                                                                                                                                                                                                                                                                                                                                                                                                                                                                                                                                                                                                                                                                                                                                                                                                                                                                                                                                                                                                                                                                                                                                                                                                                                                                                                                                                                                                                                                                                                                                                                                                                                                                                                                                                                     \\nPortrait of philosopher Pierre-Joseph Proudhon (1809–1865) by Gustave Courbet. Proudhon was the primary proponent of anarchist mutualism and influenced many later individualist anarchist and social anarchist thinkers.\\nAnarchist schools of thought had been generally grouped in two main historical traditions individualist anarchism and social anarchism which have some different origins values and evolution. The individualist wing of anarchism emphasises negative liberty i.e. opposition to state or social control over the individual while those in the social wing emphasise positive liberty to achieve one's potential and argue that humans have needs that society ought to fulfil \"recognising equality of entitlement\". In a chronological and theoretical sense there are classical – those created throughout the 19th century – and post-classical anarchist schools – those created since the mid-20th century and after.\\n\\nBeyond the specific factions of anarchist thought is philosophical anarchism which embodies the theoretical stance that the state lacks moral legitimacy without accepting the imperative of revolution to eliminate it. A component especially of individualist anarchism philosophical anarchism may accept the existence of a minimal state as unfortunate and usually temporary \"necessary evil\" but argue that citizens do not have a moral obligation to obey the state when its laws conflict with individual autonomy. One reaction against sectarianism within the anarchist milieu was \"anarchism without adjectives\" a call for toleration first adopted by Fernando Tarrida del Mármol in 1889 in response to the \"bitter debates\" of anarchist theory at the time. In abandoning the hyphenated anarchisms (i.e. collectivist- communist- mutualist– and individualist-anarchism) it sought to emphasise the anti-authoritarian beliefs common to all anarchist schools of thought.\\n\\n===Classical anarchist schools of thought===\\n\\n====Mutualism====\\n\\nMutualism began in 18th-century English and French labour movements before taking an anarchist form associated with Pierre-Joseph Proudhon in France and others in the United States. Proudhon proposed spontaneous order whereby organisation emerges without central authority a \"positive anarchy\" where order arises when everybody does \"what he wishes and only what he wishes\" and where \"business transactions alone produce the social order.\" Proudhon distinguished between ideal political possibilities and practical governance. For this reason much in contrast to some of his theoretical statements concerning ultimate spontaneous self-governance Proudhon was heavily involved in French parliamentary politics and allied himself not with anarchist but socialist factions of workers' movements and in addition to advocating state-protected charters for worker-owned cooperatives promoted certain nationalisation schemes during his life of public service.\\n\\nMutualist anarchism is concerned with reciprocity free association voluntary contract federation and credit and currency reform. According to the American mutualist William Batchelder Greene each worker in the mutualist system would receive \"just and exact pay for his work; services equivalent in cost being exchangeable for services equivalent in cost without profit or discount.\" Mutualism has been retrospectively characterised as ideologically situated between individualist and collectivist forms of anarchism.''Blackwell Encyclopaedia of Political Thought'' Blackwell Publishing 1991  p. 11. Proudhon first characterised his goal as a \"third form of society the synthesis of communism and property.\"\\n\\n====Individualist anarchism====\\n\\nIndividualist anarchism refers to several traditions of thought within the anarchist movement that emphasise the individual and their will over any kinds of external determinants such as groups society traditions and ideological systems. Individualist anarchism is not a single philosophy but refers to a group of individualistic philosophies that sometimes are in conflict.\\n\\nIn 1793 William Godwin who has often been cited as the first anarchist wrote ''Political Justice'' which some consider the first expression of anarchism. Godwin a philosophical anarchist from a rationalist and utilitarian basis opposed revolutionary action and saw a minimal state as a present \"necessary evil\" that would become increasingly irrelevant and powerless by the gradual spread of knowledge. Godwin advocated individualism proposing that all cooperation in labour be eliminated on the premise that this would be most conducive with the general good.\\n19th-century philosopher Max Stirner usually considered a prominent early individualist anarchist (sketch by Friedrich Engels).\\nAn influential form of individualist anarchism called \"egoism\" or egoist anarchism was expounded by one of the earliest and best-known proponents of individualist anarchism the German Max Stirner. Stirner's ''The Ego and Its Own'' published in 1844 is a founding text of the philosophy. According to Stirner the only limitation on the rights of individuals is their power to obtain what they desire without regard for God state or morality. To Stirner rights were ''spooks'' in the mind and he held that society does not exist but \"the individuals are its reality\". Stirner advocated self-assertion and foresaw unions of egoists non-systematic associations continually renewed by all parties' support through an act of will which Stirner proposed as a form of organisation in place of the state. Egoist anarchists argue that egoism will foster genuine and spontaneous union between individuals. \"Egoism\" has inspired many interpretations of Stirner's philosophy. It was re-discovered and promoted by German philosophical anarchist and homosexual activist John Henry Mackay.\\n\\nJosiah Warren is widely regarded as the first American anarchist and the four-page weekly paper he edited during 1833 ''The Peaceful Revolutionist'' was the first anarchist periodical published. For American anarchist historian Eunice Minette Schuster \"It is apparent ... that Proudhonian Anarchism was to be found in the United States at least as early as 1848 and that it was not conscious of its affinity to the Individualist Anarchism of Josiah Warren and Stephen Pearl Andrews ... William B. Greene presented this Proudhonian Mutualism in its purest and most systematic form.\". Henry David Thoreau (1817–1862) was an important early influence in individualist anarchist thought in the United States and Europe. Thoreau was an American author poet naturalist tax resister development critic surveyor historian philosopher and leading transcendentalist. He is best known for his books ''Walden'' a reflection upon simple living in natural surroundings and his essay ''Civil Disobedience'' an argument for individual resistance to civil government in moral opposition to an unjust state. Later Benjamin Tucker fused Stirner's egoism with the economics of Warren and Proudhon in his eclectic influential publication ''Liberty''.\\n\\nFrom these early influences individualist anarchism in different countries attracted a small but diverse following of bohemian artists and intellectuals free love and birth control advocates (see Anarchism and issues related to love and sex) individualist naturists nudists (see anarcho-naturism) freethought and anti-clerical activists as well as young anarchist outlaws in what became known as illegalism and individual reclamation (see European individualist anarchism and individualist anarchism in France). These authors and activists included Oscar Wilde Emile Armand Han Ryner Henri Zisly Renzo Novatore Miguel Gimenez Igualada Adolf Brand and Lev Chernyi among others.\\n\\n====Social anarchism====\\n\\nSocial anarchism calls for a system with common ownership of means of production and democratic control of all organisations without any government authority or coercion. It is the largest school of thought in anarchism. Social anarchism rejects private property seeing it as a source of social inequality (while retaining respect for personal property) and emphasises cooperation and mutual aid.\\n\\n=====Collectivist anarchism=====\\n\\nCollectivist anarchism also referred to as \"revolutionary socialism\" or a form of such is a revolutionary form of anarchism commonly associated with Mikhail Bakunin and Johann Most. Collectivist anarchists oppose all private ownership of the means of production instead advocating that ownership be collectivised. This was to be achieved through violent revolution first starting with a small cohesive group through acts of violence or ''propaganda by the deed'' which would inspire the workers as a whole to revolt and forcibly collectivise the means of production.\\n\\nHowever collectivisation was not to be extended to the distribution of income as workers would be paid according to time worked rather than receiving goods being distributed \"according to need\" as in anarcho-communism. This position was criticised by anarchist communists as effectively \"upholding the wages system\". Collectivist anarchism arose contemporaneously with Marxism but opposed the Marxist dictatorship of the proletariat despite the stated Marxist goal of a collectivist stateless society. Anarchist communist and collectivist ideas are not mutually exclusive; although the collectivist anarchists advocated compensation for labour some held out the possibility of a post-revolutionary transition to a communist system of distribution according to need.\\n\\n=====Anarcho-communism=====\\n\\n\\nAnarchist communism (also known as anarcho-communism libertarian communism and occasionally as free communism) is a theory of anarchism that advocates abolition of the state markets money private property (while retaining respect for personal property) and capitalism in favour of common ownership of the means of production direct democracy and a horizontal network of voluntary associations and workers' councils with production and consumption based on the guiding principle: \"from each according to his ability to each according to his need\".\\n\\nRussian theorist Peter Kropotkin (1842–1921) who was influential in the development of anarchist communism\\n\\nSome forms of anarchist communism such as insurrectionary anarchism are strongly influenced by egoism and radical individualism believing anarcho-communism is the best social system for the realisation of individual freedom. Most anarcho-communists view anarcho-communism as a way of reconciling the opposition between the individual and society.\\n\\nAnarcho-communism developed out of radical socialist currents after the French revolution but was first formulated as such in the Italian section of the First International. The theoretical work of Peter Kropotkin took importance later as it expanded and developed pro-organisationalist and insurrectionary anti-organisationalist sections. To date the best known examples of an anarchist communist society (i.e. established around the ideas as they exist today and achieving worldwide attention and knowledge in the historical canon) are the anarchist territories during the Spanish Revolution and the Free Territory during the Russian Revolution. Through the efforts and influence of the Spanish Anarchists during the Spanish Revolution within the Spanish Civil War starting in 1936 anarchist communism existed in most of Aragon parts of the Levante and Andalusia as well as in the stronghold of Anarchist Catalonia before being crushed by the combined forces of the regime that won the war Hitler Mussolini Spanish Communist Party repression (backed by the USSR) as well as economic and armaments blockades from the capitalist countries and the Spanish Republic itself.  During the Russian Revolution anarchists such as Nestor Makhno worked to create and defend – through the Revolutionary Insurrectionary Army of Ukraine – anarchist communism in the Free Territory of the Ukraine from 1919 before being conquered by the Bolsheviks in 1921.\\n\\n=====Anarcho-syndicalism=====\\n\\nMay day demonstration of Spanish anarcho-syndicalist trade union CNT in Bilbao Basque Country in 2010Anarcho-syndicalism is a branch of anarchism that focuses on the labour movement. Anarcho-syndicalists view labour unions as a potential force for revolutionary social change replacing capitalism and the state with a new society democratically self-managed by workers. The basic principles of anarcho-syndicalism are: Workers' solidarity Direct action and Workers' self-management\\nAnarcho-syndicalists believe that only direct action – that is action concentrated on directly attaining a goal as opposed to indirect action such as electing a representative to a government position – will allow workers to liberate themselves. Moreover anarcho-syndicalists believe that workers' organisations (the organisations that struggle against the wage system which in anarcho-syndicalist theory will eventually form the basis of a new society) should be self-managing. They should not have bosses or \"business agents\"; rather the workers should be able to make all the decisions that affect them themselves. Rudolf Rocker was one of the most popular voices in the anarcho-syndicalist movement. He outlined a view of the origins of the movement what it sought and why it was important to the future of labour in his 1938 pamphlet ''Anarcho-Syndicalism''. The International Workers Association is an international anarcho-syndicalist federation of various labour unions from different countries. The Spanish Confederación Nacional del Trabajo played and still plays a major role in the Spanish labour movement. It was also an important force in the Spanish Civil War.\\n\\n===Post-classical schools of thought===\\n\\nLawrence Jarach (left) and John Zerzan (right) two prominent contemporary anarchist authors. Zerzan is known as prominent voice within anarcho-primitivism while Jarach is a noted advocate of post-left anarchy.\\nAnarchism continues to generate many philosophies and movements at times eclectic drawing upon various sources and syncretic combining disparate concepts to create new philosophical approaches.\\n\\nGreen anarchism (or eco-anarchism) is a school of thought within anarchism that emphasises environmental issues with an important precedent in anarcho-naturism and whose main contemporary currents are anarcho-primitivism and social ecology. Writing from a green anarchist perspective John Zerzan attributes the ills of today's social degradation to technology and the birth of agricultural civilization. While Layla AbdelRahim argues that \"the shift in human consciousness was also a shift in human subsistence strategies whereby some human animals reinvented their narrative to center murder and predation and thereby institutionalize violence\". Thus according to her civilization was the result of the human development of technologies and grammar for predatory economics. Language and literacy she claims are some of these technologies.\\n\\nAnarcha-feminism (also called anarchist feminism and anarcho-feminism) combines anarchism with feminism. It generally views patriarchy as a manifestation of involuntary coercive hierarchy that should be replaced by decentralised free association. Anarcha-feminists believe that the struggle against patriarchy is an essential part of class struggle and the anarchist struggle against the state. In essence the philosophy sees anarchist struggle as a necessary component of feminist struggle and vice versa. L. Susan Brown claims that \"as anarchism is a political philosophy that opposes all relationships of power it is inherently feminist\". Anarcha-feminism began with the late 19th-century writings of early feminist anarchists such as Emma Goldman and Voltairine de Cleyre.\\n\\nAnarcho-pacifism is a tendency that rejects violence in the struggle for social change (see non-violence). It developed \"mostly in the Netherlands Britain and the United States before and during the Second World War\". Christian anarchism is a movement in political theology that combines anarchism and Christianity. Its main proponents included Leo Tolstoy Dorothy Day Ammon Hennacy and Jacques Ellul.\\n\\nPlatformism is a tendency within the wider anarchist movement based on the organisational theories in the tradition of Dielo Truda's ''Organisational Platform of the General Union of Anarchists (Draft)''.  The document was based on the experiences of Russian anarchists in the 1917 October Revolution which led eventually to the victory of the Bolsheviks over the anarchists and other groups. The ''Platform'' attempted to address and explain the anarchist movement's failures during the Russian Revolution.\\n\\nSynthesis anarchism is a form of anarchism that tries to join anarchists of different tendencies under the principles of anarchism without adjectives. In the 1920s this form found as its main proponents the anarcho-communists Voline and Sébastien Faure.  It is the main principle behind the anarchist federations grouped around the contemporary global International of Anarchist Federations.\\n\\nPost-left anarchy is a recent current in anarchist thought that promotes a critique of anarchism's relationship to traditional Left-wing politics. Some post-leftists seek to escape the confines of ideology in general also presenting a critique of organisations and morality. Influenced by the work of Max Stirner and by the Marxist Situationist International post-left anarchy is marked by a focus on social insurrection and a rejection of leftist social organisation.\\n\\nInsurrectionary anarchism is a revolutionary theory practice and tendency within the anarchist movement which emphasises insurrection within anarchist practice. It is critical of formal organisations such as labour unions and federations that are based on a political programme and periodic congresses. Instead insurrectionary anarchists advocate informal organisation and small affinity group based organisation. Insurrectionary anarchists put value in attack permanent class conflict and a refusal to negotiate or compromise with class enemies.\\n\\nPost-anarchism is a theoretical move towards a synthesis of classical anarchist theory and poststructuralist thought drawing from diverse ideas including post-modernism autonomist marxism post-left anarchy Situationist International and postcolonialism.\\n\\nLeft-wing market anarchism strongly affirm the classical liberal ideas of self-ownership and free markets while maintaining that taken to their logical conclusions these ideas support strongly anti-corporatist anti-hierarchical pro-labour positions and anti-capitalism in economics and anti-imperialism in foreign policy.\\n\\nAnarcho-capitalism advocates the elimination of the state in favour of self-ownership in a free market. Anarcho-capitalism developed from radical anti-state libertarianism and individualist anarchism drawing from Austrian School economics study of law and economics and public choice theory. There is a strong current within anarchism which believes that anarcho-capitalism cannot be considered a part of the anarchist movement due to the fact that anarchism has historically been an anti-capitalist movement and for definitional reasons which see anarchism as incompatible with capitalist forms.\\n\\n\n",
              "Name: SECTION_TEXT, dtype: object"
            ]
          },
          "metadata": {},
          "execution_count": 4
        }
      ]
    },
    {
      "cell_type": "code",
      "source": [
        "num_rows, num_cols = df.shape\n",
        "\n",
        "# Print the total number of rows\n",
        "print(\"Total number of rows in the dataset:\", num_rows)"
      ],
      "metadata": {
        "colab": {
          "base_uri": "https://localhost:8080/"
        },
        "id": "poTNvFpu-6HI",
        "outputId": "27d41b54-956c-4db1-a390-11d3b5ee7d17"
      },
      "execution_count": 5,
      "outputs": [
        {
          "output_type": "stream",
          "name": "stdout",
          "text": [
            "Total number of rows in the dataset: 5000000\n"
          ]
        }
      ]
    },
    {
      "cell_type": "code",
      "source": [
        "#Downloading all the necessary libraries for the data pre processing\n",
        "import nltk\n",
        "import string\n",
        "from nltk.stem import WordNetLemmatizer\n",
        "from nltk.corpus import stopwords\n",
        "nltk.download('punkt')\n",
        "nltk.download('stopwords')\n",
        "nltk.download('wordnet')\n",
        "\n",
        "STOPWORDS = set(stopwords.words('english'))\n",
        "PUNCTUATION =string.punctuation\n",
        "lemmatized_tokens = []\n",
        "lemmatization = WordNetLemmatizer()"
      ],
      "metadata": {
        "colab": {
          "base_uri": "https://localhost:8080/"
        },
        "id": "G7Sn4jUJ8uTE",
        "outputId": "07cf9c5f-d938-472f-8934-48b5230ee298"
      },
      "execution_count": 6,
      "outputs": [
        {
          "output_type": "stream",
          "name": "stderr",
          "text": [
            "[nltk_data] Downloading package punkt to /root/nltk_data...\n",
            "[nltk_data]   Unzipping tokenizers/punkt.zip.\n",
            "[nltk_data] Downloading package stopwords to /root/nltk_data...\n",
            "[nltk_data]   Unzipping corpora/stopwords.zip.\n",
            "[nltk_data] Downloading package wordnet to /root/nltk_data...\n"
          ]
        }
      ]
    },
    {
      "cell_type": "code",
      "source": [
        "from nltk.corpus import stopwords, wordnet\n",
        "def is_english_word(word):\n",
        "    # Check if the word is present in the English vocabulary\n",
        "    return wordnet.synsets(word)\n",
        "\n",
        "def text_preprocessing(text):\n",
        "    # Converting text to lowercase and changing datatype of text to str\n",
        "    if not isinstance(text, str):\n",
        "        text = str(text)\n",
        "    text = text.lower()\n",
        "    # Word tokenization\n",
        "    word_tokens = nltk.word_tokenize(text)\n",
        "    updated_tokens = []\n",
        "    # Removing digits, special characters, punctuation, and stopwords\n",
        "    # Lemmatizing word_tokens and checking if each word is an English word\n",
        "    for token in word_tokens:\n",
        "        if (\n",
        "            token not in STOPWORDS\n",
        "            and token.isalpha()\n",
        "            and token not in PUNCTUATION\n",
        "            and is_english_word(token)      #we have checked here whether o rnot every word here is a valid word present in english vocabulary\n",
        "        ):\n",
        "            updated_tokens.append(lemmatization.lemmatize(token))\n",
        "    return \" \".join(updated_tokens)"
      ],
      "metadata": {
        "id": "Dq78vJP-Cmzk"
      },
      "execution_count": 7,
      "outputs": []
    },
    {
      "cell_type": "code",
      "source": [
        "# Apply text preprocessing to the first 100 k  rows of the DataFrame\n",
        "df['section_text_processed'] = df['SECTION_TEXT'].head(100000).apply(text_preprocessing)   #took me around 6 mins and 36 seconds to pre process my 100k rows"
      ],
      "metadata": {
        "id": "Vm201phU9WSQ"
      },
      "execution_count": 8,
      "outputs": []
    },
    {
      "cell_type": "code",
      "source": [
        "# Set display options to show full text in columns\n",
        "pd.set_option('display.max_colwidth', None)\n",
        "df.loc[0:1,'section_text_processed']"
      ],
      "metadata": {
        "colab": {
          "base_uri": "https://localhost:8080/"
        },
        "id": "Net5DDdP9tej",
        "outputId": "09f7b688-dd9e-4c6d-e13e-351c183ea276"
      },
      "execution_count": 9,
      "outputs": [
        {
          "output_type": "execute_result",
          "data": {
            "text/plain": [
              "0    political philosophy advocate society based voluntary institution often described stateless society several author defined specifically institution based free association anarchism hold state undesirable unnecessary harmful central anarchism specifically entail opposing authority hierarchical organisation conduct human relation including limited state system anarchism usually considered extreme ideology much anarchist economics anarchist legal philosophy reflects interpretation communism collectivism syndicalism mutualism participatory economics anarchism offer fixed body doctrine single particular world view instead fluxing flowing philosophy many type tradition anarchism exist mutually exclusive anarchist school thought differ fundamentally supporting extreme individualism complete collectivism strain anarchism often divided category social individualist anarchism similar dual classification\n",
              "1                                                                                        term anarchism compound word composed word anarchy suffix derived respectively greek anarchy meaning one ruler prefix leader ruler cf authority sovereignty realm magistracy suffix verbal infinitive suffix first known use word various faction within french revolution labelled opponent anarchist robespierre shared many view later anarchist many revolutionary early nineteenth century contributed anarchist doctrine next generation use word anarchist anarchism describing belief first political philosopher call anarchist proudhon marking formal birth anarchism century beginning france term libertarianism often used synonym anarchism used almost exclusively sense united state use synonym still common outside united state hand use libertarianism refer individualistic philosophy referring anarchism libertarian anarchism\n",
              "Name: section_text_processed, dtype: object"
            ]
          },
          "metadata": {},
          "execution_count": 9
        }
      ]
    },
    {
      "cell_type": "code",
      "source": [
        "# Save the DataFrame to a CSV file\n",
        "df.to_csv('preprocessed_data.csv', index=False)"
      ],
      "metadata": {
        "id": "y7-2TsBdYz_w"
      },
      "execution_count": 11,
      "outputs": []
    },
    {
      "cell_type": "code",
      "source": [
        "\"\"\"\n",
        "def text_preprocessing(text):\n",
        "   #Converting text to lowercase\n",
        "   #also changing datatype of text to str\n",
        "    if not isinstance(text, str):\n",
        "        text = str(text)\n",
        "    text = text.lower()\n",
        "    #word tokenization\n",
        "    word_tokens = nltk.word_tokenize(text)\n",
        "    updated_tokens = []\n",
        "    # removing digits , special characters,punctuation and stopwords\n",
        "    # lemmitizating word_tokens\n",
        "    for token in word_tokens :\n",
        "      if token not in STOPWORDS and token.isalpha() and token not in PUNCTUATION:\n",
        "         updated_tokens.append(lemmatization.lemmatize(token))\n",
        "    return \" \".join(updated_tokens)\n",
        "\"\"\""
      ],
      "metadata": {
        "id": "tCy3f2l48uk3"
      },
      "execution_count": null,
      "outputs": []
    }
  ],
  "metadata": {
    "colab": {
      "provenance": []
    },
    "kernelspec": {
      "display_name": "Python 3",
      "name": "python3"
    },
    "language_info": {
      "name": "python"
    }
  },
  "nbformat": 4,
  "nbformat_minor": 0
}